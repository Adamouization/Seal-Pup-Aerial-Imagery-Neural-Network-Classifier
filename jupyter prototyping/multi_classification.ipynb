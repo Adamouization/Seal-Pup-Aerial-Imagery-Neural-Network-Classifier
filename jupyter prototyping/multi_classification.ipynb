{
 "cells": [
  {
   "cell_type": "markdown",
   "metadata": {},
   "source": [
    "# Part 1: Data Loading"
   ]
  },
  {
   "cell_type": "markdown",
   "metadata": {},
   "source": [
    "### Import libraries"
   ]
  },
  {
   "cell_type": "code",
   "execution_count": 6,
   "metadata": {},
   "outputs": [],
   "source": [
    "import joblib\n",
    "\n",
    "import matplotlib.pyplot as plt\n",
    "import numpy as np\n",
    "import pandas as pd\n",
    "import seaborn as sns\n",
    "from sklearn.linear_model import LogisticRegression, SGDClassifier\n",
    "from sklearn.metrics import confusion_matrix\n",
    "from sklearn.model_selection import cross_val_predict, cross_val_score, train_test_split\n",
    "from sklearn.svm import LinearSVC"
   ]
  },
  {
   "cell_type": "code",
   "execution_count": 7,
   "metadata": {},
   "outputs": [],
   "source": [
    "RANDOM_SEED = 111"
   ]
  },
  {
   "cell_type": "code",
   "execution_count": 8,
   "metadata": {},
   "outputs": [],
   "source": [
    "fontsizes = {\n",
    "    'title': 15,\n",
    "    'axis': 14,\n",
    "    'ticks': 11\n",
    "}"
   ]
  },
  {
   "cell_type": "markdown",
   "metadata": {},
   "source": [
    "### Load training data"
   ]
  },
  {
   "cell_type": "code",
   "execution_count": 9,
   "metadata": {},
   "outputs": [
    {
     "name": "stdout",
     "output_type": "stream",
     "text": [
      "CPU times: user 13.1 s, sys: 1.07 s, total: 14.1 s\n",
      "Wall time: 15.1 s\n"
     ]
    }
   ],
   "source": [
    "%%time\n",
    "X_train_multi = pd.read_csv(\"../data/multi/X_train.csv\", header=None)\n",
    "y_train_multi = pd.read_csv(\"../data/multi/Y_train.csv\", header=None)"
   ]
  },
  {
   "cell_type": "markdown",
   "metadata": {},
   "source": [
    "# Part 2: Data cleaning & create new input features"
   ]
  },
  {
   "cell_type": "code",
   "execution_count": 8,
   "metadata": {},
   "outputs": [],
   "source": [
    "#todo"
   ]
  },
  {
   "cell_type": "markdown",
   "metadata": {},
   "source": [
    "# Part 3. Data Visualisation & Analysis"
   ]
  },
  {
   "cell_type": "code",
   "execution_count": 3,
   "metadata": {},
   "outputs": [
    {
     "data": {
      "text/plain": [
       "(62210, 964)"
      ]
     },
     "execution_count": 3,
     "metadata": {},
     "output_type": "execute_result"
    }
   ],
   "source": [
    "X_train_binary.shape"
   ]
  },
  {
   "cell_type": "markdown",
   "metadata": {},
   "source": [
    "--> Training data summary:\n",
    "* There are 62,210 rows (images)\n",
    "* There are 964 columns (feature):\n",
    "    * first 900 columns = **HoG (Histogram of oriented Gradients)** extracted from the image (10×10 px cells, 9 orientations, 2×2 blocks).\n",
    "    * next 16 columns drawn from a **normal distribution** (µ = 0.5, σ = 2)\n",
    "    * last 48 columns correspond to 3 **colour histograms** extracted from the same image, one for each channel (RGB), with 16 bins per channel.\n",
    "\n",
    "They are split into 3 different sets for further analysis and visualisation"
   ]
  },
  {
   "cell_type": "code",
   "execution_count": 4,
   "metadata": {},
   "outputs": [],
   "source": [
    "X_train_HoG = X_train_binary.iloc[:, :900]\n",
    "X_train_normal_dist = X_train_binary.iloc[:, 900:916]\n",
    "X_train_colour_hists = X_train_binary.iloc[:, 916:]"
   ]
  },
  {
   "cell_type": "markdown",
   "metadata": {},
   "source": [
    "### A. HoG (Histogram of oriented Gradients)"
   ]
  },
  {
   "cell_type": "code",
   "execution_count": 5,
   "metadata": {},
   "outputs": [
    {
     "data": {
      "text/html": [
       "<div>\n",
       "<style scoped>\n",
       "    .dataframe tbody tr th:only-of-type {\n",
       "        vertical-align: middle;\n",
       "    }\n",
       "\n",
       "    .dataframe tbody tr th {\n",
       "        vertical-align: top;\n",
       "    }\n",
       "\n",
       "    .dataframe thead th {\n",
       "        text-align: right;\n",
       "    }\n",
       "</style>\n",
       "<table border=\"1\" class=\"dataframe\">\n",
       "  <thead>\n",
       "    <tr style=\"text-align: right;\">\n",
       "      <th></th>\n",
       "      <th>0</th>\n",
       "      <th>1</th>\n",
       "      <th>2</th>\n",
       "      <th>3</th>\n",
       "      <th>4</th>\n",
       "      <th>5</th>\n",
       "      <th>6</th>\n",
       "      <th>7</th>\n",
       "      <th>8</th>\n",
       "      <th>9</th>\n",
       "      <th>...</th>\n",
       "      <th>890</th>\n",
       "      <th>891</th>\n",
       "      <th>892</th>\n",
       "      <th>893</th>\n",
       "      <th>894</th>\n",
       "      <th>895</th>\n",
       "      <th>896</th>\n",
       "      <th>897</th>\n",
       "      <th>898</th>\n",
       "      <th>899</th>\n",
       "    </tr>\n",
       "  </thead>\n",
       "  <tbody>\n",
       "    <tr>\n",
       "      <th>0</th>\n",
       "      <td>0.142099</td>\n",
       "      <td>0.081518</td>\n",
       "      <td>0.083921</td>\n",
       "      <td>0.126117</td>\n",
       "      <td>0.172096</td>\n",
       "      <td>0.100030</td>\n",
       "      <td>0.025462</td>\n",
       "      <td>0.059543</td>\n",
       "      <td>0.081057</td>\n",
       "      <td>0.154092</td>\n",
       "      <td>...</td>\n",
       "      <td>0.037176</td>\n",
       "      <td>0.202987</td>\n",
       "      <td>0.072584</td>\n",
       "      <td>0.153205</td>\n",
       "      <td>0.109442</td>\n",
       "      <td>0.122022</td>\n",
       "      <td>0.060017</td>\n",
       "      <td>0.031778</td>\n",
       "      <td>0.072015</td>\n",
       "      <td>0.097999</td>\n",
       "    </tr>\n",
       "    <tr>\n",
       "      <th>1</th>\n",
       "      <td>0.248079</td>\n",
       "      <td>0.138499</td>\n",
       "      <td>0.066726</td>\n",
       "      <td>0.105121</td>\n",
       "      <td>0.196336</td>\n",
       "      <td>0.084412</td>\n",
       "      <td>0.244487</td>\n",
       "      <td>0.248079</td>\n",
       "      <td>0.104019</td>\n",
       "      <td>0.236483</td>\n",
       "      <td>...</td>\n",
       "      <td>0.058132</td>\n",
       "      <td>0.230370</td>\n",
       "      <td>0.081907</td>\n",
       "      <td>0.139281</td>\n",
       "      <td>0.139641</td>\n",
       "      <td>0.259892</td>\n",
       "      <td>0.259892</td>\n",
       "      <td>0.253810</td>\n",
       "      <td>0.259892</td>\n",
       "      <td>0.102828</td>\n",
       "    </tr>\n",
       "    <tr>\n",
       "      <th>2</th>\n",
       "      <td>0.193626</td>\n",
       "      <td>0.091769</td>\n",
       "      <td>0.180461</td>\n",
       "      <td>0.184008</td>\n",
       "      <td>0.217402</td>\n",
       "      <td>0.217402</td>\n",
       "      <td>0.217402</td>\n",
       "      <td>0.125612</td>\n",
       "      <td>0.121047</td>\n",
       "      <td>0.217402</td>\n",
       "      <td>...</td>\n",
       "      <td>0.120672</td>\n",
       "      <td>0.251554</td>\n",
       "      <td>0.072907</td>\n",
       "      <td>0.112687</td>\n",
       "      <td>0.127137</td>\n",
       "      <td>0.194310</td>\n",
       "      <td>0.070367</td>\n",
       "      <td>0.096034</td>\n",
       "      <td>0.105702</td>\n",
       "      <td>0.103384</td>\n",
       "    </tr>\n",
       "    <tr>\n",
       "      <th>3</th>\n",
       "      <td>0.123813</td>\n",
       "      <td>0.058378</td>\n",
       "      <td>0.097994</td>\n",
       "      <td>0.091008</td>\n",
       "      <td>0.206869</td>\n",
       "      <td>0.251324</td>\n",
       "      <td>0.251324</td>\n",
       "      <td>0.193339</td>\n",
       "      <td>0.156478</td>\n",
       "      <td>0.242829</td>\n",
       "      <td>...</td>\n",
       "      <td>0.138086</td>\n",
       "      <td>0.189607</td>\n",
       "      <td>0.054868</td>\n",
       "      <td>0.099990</td>\n",
       "      <td>0.052163</td>\n",
       "      <td>0.211206</td>\n",
       "      <td>0.192969</td>\n",
       "      <td>0.225437</td>\n",
       "      <td>0.078157</td>\n",
       "      <td>0.148694</td>\n",
       "    </tr>\n",
       "    <tr>\n",
       "      <th>4</th>\n",
       "      <td>0.226959</td>\n",
       "      <td>0.138531</td>\n",
       "      <td>0.114237</td>\n",
       "      <td>0.062622</td>\n",
       "      <td>0.193829</td>\n",
       "      <td>0.130002</td>\n",
       "      <td>0.147443</td>\n",
       "      <td>0.226959</td>\n",
       "      <td>0.226959</td>\n",
       "      <td>0.226959</td>\n",
       "      <td>...</td>\n",
       "      <td>0.090555</td>\n",
       "      <td>0.161151</td>\n",
       "      <td>0.086103</td>\n",
       "      <td>0.097058</td>\n",
       "      <td>0.217218</td>\n",
       "      <td>0.119377</td>\n",
       "      <td>0.090272</td>\n",
       "      <td>0.050110</td>\n",
       "      <td>0.014789</td>\n",
       "      <td>0.062420</td>\n",
       "    </tr>\n",
       "  </tbody>\n",
       "</table>\n",
       "<p>5 rows × 900 columns</p>\n",
       "</div>"
      ],
      "text/plain": [
       "        0         1         2         3         4         5         6    \\\n",
       "0  0.142099  0.081518  0.083921  0.126117  0.172096  0.100030  0.025462   \n",
       "1  0.248079  0.138499  0.066726  0.105121  0.196336  0.084412  0.244487   \n",
       "2  0.193626  0.091769  0.180461  0.184008  0.217402  0.217402  0.217402   \n",
       "3  0.123813  0.058378  0.097994  0.091008  0.206869  0.251324  0.251324   \n",
       "4  0.226959  0.138531  0.114237  0.062622  0.193829  0.130002  0.147443   \n",
       "\n",
       "        7         8         9    ...       890       891       892       893  \\\n",
       "0  0.059543  0.081057  0.154092  ...  0.037176  0.202987  0.072584  0.153205   \n",
       "1  0.248079  0.104019  0.236483  ...  0.058132  0.230370  0.081907  0.139281   \n",
       "2  0.125612  0.121047  0.217402  ...  0.120672  0.251554  0.072907  0.112687   \n",
       "3  0.193339  0.156478  0.242829  ...  0.138086  0.189607  0.054868  0.099990   \n",
       "4  0.226959  0.226959  0.226959  ...  0.090555  0.161151  0.086103  0.097058   \n",
       "\n",
       "        894       895       896       897       898       899  \n",
       "0  0.109442  0.122022  0.060017  0.031778  0.072015  0.097999  \n",
       "1  0.139641  0.259892  0.259892  0.253810  0.259892  0.102828  \n",
       "2  0.127137  0.194310  0.070367  0.096034  0.105702  0.103384  \n",
       "3  0.052163  0.211206  0.192969  0.225437  0.078157  0.148694  \n",
       "4  0.217218  0.119377  0.090272  0.050110  0.014789  0.062420  \n",
       "\n",
       "[5 rows x 900 columns]"
      ]
     },
     "execution_count": 5,
     "metadata": {},
     "output_type": "execute_result"
    }
   ],
   "source": [
    "X_train_HoG.head(5)"
   ]
  },
  {
   "cell_type": "code",
   "execution_count": 6,
   "metadata": {},
   "outputs": [
    {
     "name": "stdout",
     "output_type": "stream",
     "text": [
      "<class 'pandas.core.frame.DataFrame'>\n",
      "RangeIndex: 62210 entries, 0 to 62209\n",
      "Columns: 900 entries, 0 to 899\n",
      "dtypes: float64(900)\n",
      "memory usage: 427.2 MB\n"
     ]
    }
   ],
   "source": [
    "X_train_HoG.info()"
   ]
  },
  {
   "cell_type": "markdown",
   "metadata": {},
   "source": [
    "Visualise a reconstruction of the image from the HoG."
   ]
  },
  {
   "cell_type": "code",
   "execution_count": 76,
   "metadata": {},
   "outputs": [
    {
     "data": {
      "image/png": "[encoded data removed]",
      "text/plain": [
       "<Figure size 1440x576 with 10 Axes>"
      ]
     },
     "metadata": {
      "needs_background": "light"
     },
     "output_type": "display_data"
    }
   ],
   "source": [
    "fig=plt.figure(figsize=(20, 8))\n",
    "\n",
    "image_background1 = X_train_HoG.iloc[7778].to_numpy().reshape(30, 30)\n",
    "fig.add_subplot(2,5,1)\n",
    "plt.imshow(image_background1, cmap=\"bone\")\n",
    "plt.title(\"background\", fontsize=fontsizes['title'])\n",
    "plt.axis(\"off\")\n",
    "\n",
    "image_whitecoat1 = X_train_HoG.iloc[0].to_numpy().reshape(30, 30)\n",
    "fig.add_subplot(2,5,2)\n",
    "plt.imshow(image_whitecoat1, cmap=\"bone\")\n",
    "plt.title(\"whitecoat\", fontsize=fontsizes['title'])\n",
    "plt.axis(\"off\")\n",
    "\n",
    "image_moultedpup1 = X_train_HoG.iloc[4981].to_numpy().reshape(30, 30)\n",
    "fig.add_subplot(2,5,3)\n",
    "plt.imshow(image_moultedpup1, cmap=\"bone\")\n",
    "plt.title(\"moulted pup\", fontsize=fontsizes['title'])\n",
    "plt.axis(\"off\")\n",
    "\n",
    "image_deadpup1 = X_train_HoG.iloc[7253].to_numpy().reshape(30, 30)\n",
    "fig.add_subplot(2,5,4)\n",
    "plt.imshow(image_deadpup1, cmap=\"bone\")\n",
    "plt.title(\"dead pup\", fontsize=fontsizes['title'])\n",
    "plt.axis(\"off\")\n",
    "\n",
    "image_juvenile1 = X_train_HoG.iloc[7530].to_numpy().reshape(30, 30)\n",
    "fig.add_subplot(2,5,5)\n",
    "plt.imshow(image_juvenile1, cmap=\"bone\")\n",
    "plt.title(\"juvenile\", fontsize=fontsizes['title'])\n",
    "plt.axis(\"off\")\n",
    "\n",
    "image_background2 = X_train_HoG.iloc[62205].to_numpy().reshape(30, 30)\n",
    "fig.add_subplot(2,5,6)\n",
    "plt.imshow(image_background2, cmap=\"bone\")\n",
    "plt.title(\"background\", fontsize=fontsizes['title'])\n",
    "plt.axis(\"off\")\n",
    "\n",
    "image_whitecoat2 = X_train_HoG.iloc[4976].to_numpy().reshape(30, 30)\n",
    "fig.add_subplot(2,5,7)\n",
    "plt.imshow(image_whitecoat2, cmap=\"bone\")\n",
    "plt.title(\"whitecoat\", fontsize=fontsizes['title'])\n",
    "plt.axis(\"off\")\n",
    "\n",
    "image_moultedpup2 = X_train_HoG.iloc[7248].to_numpy().reshape(30, 30)\n",
    "fig.add_subplot(2,5,8)\n",
    "plt.imshow(image_moultedpup2, cmap=\"bone\")\n",
    "plt.title(\"moulted pup\", fontsize=fontsizes['title'])\n",
    "plt.axis(\"off\")\n",
    "\n",
    "image_deadpup2 = X_train_HoG.iloc[7529].to_numpy().reshape(30, 30)\n",
    "fig.add_subplot(2,5,9)\n",
    "plt.imshow(image_deadpup2, cmap=\"bone\")\n",
    "plt.title(\"dead pup\", fontsize=fontsizes['title'])\n",
    "plt.axis(\"off\")\n",
    "\n",
    "image_juvenile2 = X_train_HoG.iloc[7777].to_numpy().reshape(30, 30)\n",
    "fig.add_subplot(2,5,10)\n",
    "plt.imshow(image_juvenile2, cmap=\"bone\")\n",
    "plt.title(\"juvenile\", fontsize=fontsizes['title'])\n",
    "plt.axis(\"off\")\n",
    "\n",
    "plt.savefig(\"reconstructed_images_multi.png\")\n",
    "plt.show()"
   ]
  },
  {
   "cell_type": "markdown",
   "metadata": {},
   "source": [
    "Observation:\n",
    "* There is little difference between a background and a seal\n",
    "\n",
    "--> Reconstructed image doesn't give any information useful for classification.    "
   ]
  },
  {
   "cell_type": "markdown",
   "metadata": {},
   "source": [
    "### B. Normal distribution"
   ]
  },
  {
   "cell_type": "code",
   "execution_count": 14,
   "metadata": {},
   "outputs": [
    {
     "data": {
      "text/html": [
       "<div>\n",
       "<style scoped>\n",
       "    .dataframe tbody tr th:only-of-type {\n",
       "        vertical-align: middle;\n",
       "    }\n",
       "\n",
       "    .dataframe tbody tr th {\n",
       "        vertical-align: top;\n",
       "    }\n",
       "\n",
       "    .dataframe thead th {\n",
       "        text-align: right;\n",
       "    }\n",
       "</style>\n",
       "<table border=\"1\" class=\"dataframe\">\n",
       "  <thead>\n",
       "    <tr style=\"text-align: right;\">\n",
       "      <th></th>\n",
       "      <th>900</th>\n",
       "      <th>901</th>\n",
       "      <th>902</th>\n",
       "      <th>903</th>\n",
       "      <th>904</th>\n",
       "      <th>905</th>\n",
       "      <th>906</th>\n",
       "      <th>907</th>\n",
       "      <th>908</th>\n",
       "      <th>909</th>\n",
       "      <th>910</th>\n",
       "      <th>911</th>\n",
       "      <th>912</th>\n",
       "      <th>913</th>\n",
       "      <th>914</th>\n",
       "      <th>915</th>\n",
       "    </tr>\n",
       "  </thead>\n",
       "  <tbody>\n",
       "    <tr>\n",
       "      <th>0</th>\n",
       "      <td>-1.280041</td>\n",
       "      <td>1.238382</td>\n",
       "      <td>2.661622</td>\n",
       "      <td>-2.942723</td>\n",
       "      <td>0.256651</td>\n",
       "      <td>-0.847558</td>\n",
       "      <td>-0.144272</td>\n",
       "      <td>-3.628990</td>\n",
       "      <td>-0.317223</td>\n",
       "      <td>2.649822</td>\n",
       "      <td>5.004708</td>\n",
       "      <td>-4.185132</td>\n",
       "      <td>-0.319661</td>\n",
       "      <td>-0.403782</td>\n",
       "      <td>0.837098</td>\n",
       "      <td>0.674467</td>\n",
       "    </tr>\n",
       "    <tr>\n",
       "      <th>1</th>\n",
       "      <td>1.734251</td>\n",
       "      <td>3.321642</td>\n",
       "      <td>-1.756527</td>\n",
       "      <td>3.417488</td>\n",
       "      <td>-1.973764</td>\n",
       "      <td>-0.026902</td>\n",
       "      <td>2.733768</td>\n",
       "      <td>1.420462</td>\n",
       "      <td>0.212293</td>\n",
       "      <td>0.360131</td>\n",
       "      <td>1.912276</td>\n",
       "      <td>6.072646</td>\n",
       "      <td>-3.138425</td>\n",
       "      <td>-1.144073</td>\n",
       "      <td>-0.793034</td>\n",
       "      <td>-2.189273</td>\n",
       "    </tr>\n",
       "    <tr>\n",
       "      <th>2</th>\n",
       "      <td>-1.218798</td>\n",
       "      <td>-0.706921</td>\n",
       "      <td>-0.970352</td>\n",
       "      <td>1.446063</td>\n",
       "      <td>1.069938</td>\n",
       "      <td>4.533852</td>\n",
       "      <td>2.815861</td>\n",
       "      <td>-0.491769</td>\n",
       "      <td>-0.232733</td>\n",
       "      <td>1.098961</td>\n",
       "      <td>-0.329036</td>\n",
       "      <td>2.557483</td>\n",
       "      <td>-1.199582</td>\n",
       "      <td>0.998466</td>\n",
       "      <td>-1.331319</td>\n",
       "      <td>1.782689</td>\n",
       "    </tr>\n",
       "    <tr>\n",
       "      <th>3</th>\n",
       "      <td>-2.192398</td>\n",
       "      <td>-1.735968</td>\n",
       "      <td>2.031139</td>\n",
       "      <td>0.725424</td>\n",
       "      <td>-0.305053</td>\n",
       "      <td>-1.314722</td>\n",
       "      <td>-1.477061</td>\n",
       "      <td>3.391574</td>\n",
       "      <td>3.039285</td>\n",
       "      <td>-0.780832</td>\n",
       "      <td>0.132886</td>\n",
       "      <td>2.852817</td>\n",
       "      <td>4.059947</td>\n",
       "      <td>-0.462990</td>\n",
       "      <td>3.677201</td>\n",
       "      <td>-4.173188</td>\n",
       "    </tr>\n",
       "    <tr>\n",
       "      <th>4</th>\n",
       "      <td>-0.691028</td>\n",
       "      <td>-4.928038</td>\n",
       "      <td>-2.162437</td>\n",
       "      <td>1.651693</td>\n",
       "      <td>0.314290</td>\n",
       "      <td>2.053126</td>\n",
       "      <td>6.163571</td>\n",
       "      <td>1.326052</td>\n",
       "      <td>-2.152279</td>\n",
       "      <td>3.103169</td>\n",
       "      <td>-1.078835</td>\n",
       "      <td>-0.374443</td>\n",
       "      <td>1.339320</td>\n",
       "      <td>-0.335326</td>\n",
       "      <td>0.810662</td>\n",
       "      <td>-0.089223</td>\n",
       "    </tr>\n",
       "  </tbody>\n",
       "</table>\n",
       "</div>"
      ],
      "text/plain": [
       "        900       901       902       903       904       905       906  \\\n",
       "0 -1.280041  1.238382  2.661622 -2.942723  0.256651 -0.847558 -0.144272   \n",
       "1  1.734251  3.321642 -1.756527  3.417488 -1.973764 -0.026902  2.733768   \n",
       "2 -1.218798 -0.706921 -0.970352  1.446063  1.069938  4.533852  2.815861   \n",
       "3 -2.192398 -1.735968  2.031139  0.725424 -0.305053 -1.314722 -1.477061   \n",
       "4 -0.691028 -4.928038 -2.162437  1.651693  0.314290  2.053126  6.163571   \n",
       "\n",
       "        907       908       909       910       911       912       913  \\\n",
       "0 -3.628990 -0.317223  2.649822  5.004708 -4.185132 -0.319661 -0.403782   \n",
       "1  1.420462  0.212293  0.360131  1.912276  6.072646 -3.138425 -1.144073   \n",
       "2 -0.491769 -0.232733  1.098961 -0.329036  2.557483 -1.199582  0.998466   \n",
       "3  3.391574  3.039285 -0.780832  0.132886  2.852817  4.059947 -0.462990   \n",
       "4  1.326052 -2.152279  3.103169 -1.078835 -0.374443  1.339320 -0.335326   \n",
       "\n",
       "        914       915  \n",
       "0  0.837098  0.674467  \n",
       "1 -0.793034 -2.189273  \n",
       "2 -1.331319  1.782689  \n",
       "3  3.677201 -4.173188  \n",
       "4  0.810662 -0.089223  "
      ]
     },
     "execution_count": 14,
     "metadata": {},
     "output_type": "execute_result"
    }
   ],
   "source": [
    "X_train_normal_dist.head(5)"
   ]
  },
  {
   "cell_type": "code",
   "execution_count": 15,
   "metadata": {},
   "outputs": [
    {
     "name": "stdout",
     "output_type": "stream",
     "text": [
      "<class 'pandas.core.frame.DataFrame'>\n",
      "RangeIndex: 62210 entries, 0 to 62209\n",
      "Data columns (total 16 columns):\n",
      " #   Column  Non-Null Count  Dtype  \n",
      "---  ------  --------------  -----  \n",
      " 0   900     62210 non-null  float64\n",
      " 1   901     62210 non-null  float64\n",
      " 2   902     62210 non-null  float64\n",
      " 3   903     62210 non-null  float64\n",
      " 4   904     62210 non-null  float64\n",
      " 5   905     62210 non-null  float64\n",
      " 6   906     62210 non-null  float64\n",
      " 7   907     62210 non-null  float64\n",
      " 8   908     62210 non-null  float64\n",
      " 9   909     62210 non-null  float64\n",
      " 10  910     62210 non-null  float64\n",
      " 11  911     62210 non-null  float64\n",
      " 12  912     62210 non-null  float64\n",
      " 13  913     62210 non-null  float64\n",
      " 14  914     62210 non-null  float64\n",
      " 15  915     62210 non-null  float64\n",
      "dtypes: float64(16)\n",
      "memory usage: 7.6 MB\n"
     ]
    }
   ],
   "source": [
    "X_train_normal_dist.info()"
   ]
  },
  {
   "cell_type": "markdown",
   "metadata": {},
   "source": [
    "### C. RGB colour histogram"
   ]
  },
  {
   "cell_type": "code",
   "execution_count": 77,
   "metadata": {},
   "outputs": [
    {
     "data": {
      "text/plain": [
       "(62210, 48)"
      ]
     },
     "execution_count": 77,
     "metadata": {},
     "output_type": "execute_result"
    }
   ],
   "source": [
    "X_train_colour_hists.shape"
   ]
  },
  {
   "cell_type": "code",
   "execution_count": 78,
   "metadata": {},
   "outputs": [
    {
     "data": {
      "text/html": [
       "<div>\n",
       "<style scoped>\n",
       "    .dataframe tbody tr th:only-of-type {\n",
       "        vertical-align: middle;\n",
       "    }\n",
       "\n",
       "    .dataframe tbody tr th {\n",
       "        vertical-align: top;\n",
       "    }\n",
       "\n",
       "    .dataframe thead th {\n",
       "        text-align: right;\n",
       "    }\n",
       "</style>\n",
       "<table border=\"1\" class=\"dataframe\">\n",
       "  <thead>\n",
       "    <tr style=\"text-align: right;\">\n",
       "      <th></th>\n",
       "      <th>916</th>\n",
       "      <th>917</th>\n",
       "      <th>918</th>\n",
       "      <th>919</th>\n",
       "      <th>920</th>\n",
       "      <th>921</th>\n",
       "      <th>922</th>\n",
       "      <th>923</th>\n",
       "      <th>924</th>\n",
       "      <th>925</th>\n",
       "      <th>...</th>\n",
       "      <th>954</th>\n",
       "      <th>955</th>\n",
       "      <th>956</th>\n",
       "      <th>957</th>\n",
       "      <th>958</th>\n",
       "      <th>959</th>\n",
       "      <th>960</th>\n",
       "      <th>961</th>\n",
       "      <th>962</th>\n",
       "      <th>963</th>\n",
       "    </tr>\n",
       "  </thead>\n",
       "  <tbody>\n",
       "    <tr>\n",
       "      <th>0</th>\n",
       "      <td>2.0</td>\n",
       "      <td>30.0</td>\n",
       "      <td>66.0</td>\n",
       "      <td>114.0</td>\n",
       "      <td>155.0</td>\n",
       "      <td>168.0</td>\n",
       "      <td>268.0</td>\n",
       "      <td>320.0</td>\n",
       "      <td>481.0</td>\n",
       "      <td>1096.0</td>\n",
       "      <td>...</td>\n",
       "      <td>179.0</td>\n",
       "      <td>184.0</td>\n",
       "      <td>358.0</td>\n",
       "      <td>446.0</td>\n",
       "      <td>686.0</td>\n",
       "      <td>1102.0</td>\n",
       "      <td>297.0</td>\n",
       "      <td>42.0</td>\n",
       "      <td>16.0</td>\n",
       "      <td>5.0</td>\n",
       "    </tr>\n",
       "    <tr>\n",
       "      <th>1</th>\n",
       "      <td>61.0</td>\n",
       "      <td>967.0</td>\n",
       "      <td>1067.0</td>\n",
       "      <td>407.0</td>\n",
       "      <td>236.0</td>\n",
       "      <td>179.0</td>\n",
       "      <td>117.0</td>\n",
       "      <td>96.0</td>\n",
       "      <td>98.0</td>\n",
       "      <td>86.0</td>\n",
       "      <td>...</td>\n",
       "      <td>185.0</td>\n",
       "      <td>125.0</td>\n",
       "      <td>115.0</td>\n",
       "      <td>91.0</td>\n",
       "      <td>138.0</td>\n",
       "      <td>109.0</td>\n",
       "      <td>87.0</td>\n",
       "      <td>59.0</td>\n",
       "      <td>23.0</td>\n",
       "      <td>10.0</td>\n",
       "    </tr>\n",
       "    <tr>\n",
       "      <th>2</th>\n",
       "      <td>53.0</td>\n",
       "      <td>228.0</td>\n",
       "      <td>457.0</td>\n",
       "      <td>667.0</td>\n",
       "      <td>577.0</td>\n",
       "      <td>615.0</td>\n",
       "      <td>379.0</td>\n",
       "      <td>279.0</td>\n",
       "      <td>126.0</td>\n",
       "      <td>45.0</td>\n",
       "      <td>...</td>\n",
       "      <td>373.0</td>\n",
       "      <td>266.0</td>\n",
       "      <td>152.0</td>\n",
       "      <td>52.0</td>\n",
       "      <td>34.0</td>\n",
       "      <td>31.0</td>\n",
       "      <td>44.0</td>\n",
       "      <td>48.0</td>\n",
       "      <td>9.0</td>\n",
       "      <td>6.0</td>\n",
       "    </tr>\n",
       "    <tr>\n",
       "      <th>3</th>\n",
       "      <td>13.0</td>\n",
       "      <td>54.0</td>\n",
       "      <td>159.0</td>\n",
       "      <td>287.0</td>\n",
       "      <td>396.0</td>\n",
       "      <td>503.0</td>\n",
       "      <td>585.0</td>\n",
       "      <td>724.0</td>\n",
       "      <td>581.0</td>\n",
       "      <td>128.0</td>\n",
       "      <td>...</td>\n",
       "      <td>649.0</td>\n",
       "      <td>646.0</td>\n",
       "      <td>532.0</td>\n",
       "      <td>158.0</td>\n",
       "      <td>77.0</td>\n",
       "      <td>36.0</td>\n",
       "      <td>31.0</td>\n",
       "      <td>18.0</td>\n",
       "      <td>5.0</td>\n",
       "      <td>6.0</td>\n",
       "    </tr>\n",
       "    <tr>\n",
       "      <th>4</th>\n",
       "      <td>35.0</td>\n",
       "      <td>731.0</td>\n",
       "      <td>1420.0</td>\n",
       "      <td>788.0</td>\n",
       "      <td>156.0</td>\n",
       "      <td>43.0</td>\n",
       "      <td>51.0</td>\n",
       "      <td>77.0</td>\n",
       "      <td>57.0</td>\n",
       "      <td>60.0</td>\n",
       "      <td>...</td>\n",
       "      <td>47.0</td>\n",
       "      <td>83.0</td>\n",
       "      <td>87.0</td>\n",
       "      <td>63.0</td>\n",
       "      <td>61.0</td>\n",
       "      <td>35.0</td>\n",
       "      <td>24.0</td>\n",
       "      <td>17.0</td>\n",
       "      <td>8.0</td>\n",
       "      <td>4.0</td>\n",
       "    </tr>\n",
       "  </tbody>\n",
       "</table>\n",
       "<p>5 rows × 48 columns</p>\n",
       "</div>"
      ],
      "text/plain": [
       "    916    917     918    919    920    921    922    923    924     925  ...  \\\n",
       "0   2.0   30.0    66.0  114.0  155.0  168.0  268.0  320.0  481.0  1096.0  ...   \n",
       "1  61.0  967.0  1067.0  407.0  236.0  179.0  117.0   96.0   98.0    86.0  ...   \n",
       "2  53.0  228.0   457.0  667.0  577.0  615.0  379.0  279.0  126.0    45.0  ...   \n",
       "3  13.0   54.0   159.0  287.0  396.0  503.0  585.0  724.0  581.0   128.0  ...   \n",
       "4  35.0  731.0  1420.0  788.0  156.0   43.0   51.0   77.0   57.0    60.0  ...   \n",
       "\n",
       "     954    955    956    957    958     959    960   961   962   963  \n",
       "0  179.0  184.0  358.0  446.0  686.0  1102.0  297.0  42.0  16.0   5.0  \n",
       "1  185.0  125.0  115.0   91.0  138.0   109.0   87.0  59.0  23.0  10.0  \n",
       "2  373.0  266.0  152.0   52.0   34.0    31.0   44.0  48.0   9.0   6.0  \n",
       "3  649.0  646.0  532.0  158.0   77.0    36.0   31.0  18.0   5.0   6.0  \n",
       "4   47.0   83.0   87.0   63.0   61.0    35.0   24.0  17.0   8.0   4.0  \n",
       "\n",
       "[5 rows x 48 columns]"
      ]
     },
     "execution_count": 78,
     "metadata": {},
     "output_type": "execute_result"
    }
   ],
   "source": [
    "X_train_colour_hists.head(5)"
   ]
  },
  {
   "cell_type": "markdown",
   "metadata": {},
   "source": [
    "Extract the individual colour channels in the histogram"
   ]
  },
  {
   "cell_type": "code",
   "execution_count": 79,
   "metadata": {},
   "outputs": [],
   "source": [
    "red_channel = X_train_colour_hists.iloc[:, :16]\n",
    "blue_channel = X_train_colour_hists.iloc[:, 16:32]\n",
    "green_channel = X_train_colour_hists.iloc[:, 32:]"
   ]
  },
  {
   "cell_type": "markdown",
   "metadata": {},
   "source": [
    "Visualise RGB histogram for a single image"
   ]
  },
  {
   "cell_type": "code",
   "execution_count": 80,
   "metadata": {},
   "outputs": [
    {
     "data": {
      "image/png": "[encoded data removed]",
      "text/plain": [
       "<Figure size 720x576 with 1 Axes>"
      ]
     },
     "metadata": {
      "needs_background": "light"
     },
     "output_type": "display_data"
    }
   ],
   "source": [
    "# Matplot lib plot (line graph).\n",
    "plt.figure(figsize=(10, 8))\n",
    "bin_labels = [i for i in range(0, 255, 16)]\n",
    "plt.plot(bin_labels, red_channel.iloc[0].values, color=\"red\", label=\"R\")\n",
    "plt.plot(bin_labels, green_channel.iloc[0].values, color=\"green\", label=\"G\")\n",
    "plt.plot(bin_labels, blue_channel.iloc[0].values, color=\"blue\", label=\"B\")\n",
    "plt.xlim((0, 255-16))\n",
    "plt.ylim(0, max(max(red_channel.iloc[0].values), max(green_channel.iloc[0].values), max(blue_channel.iloc[0].values)) + 25)  # Add padding.\n",
    "plt.xlabel(\"Bins\", fontsize=fontsizes['axis'])\n",
    "plt.ylabel(\"Pixel Frequency\", fontsize=fontsizes['axis'])\n",
    "plt.title(\"RGB Histogram for a single image\", fontsize=fontsizes['title'])\n",
    "plt.grid(color='#95a5a6', linestyle='-', linewidth=1, axis='y', alpha=0.5)\n",
    "plt.legend()\n",
    "    \n",
    "# Save and display chart.\n",
    "plt.savefig(\"rgb_hist_single_image.png\")\n",
    "plt.show()"
   ]
  },
  {
   "cell_type": "markdown",
   "metadata": {},
   "source": [
    "Visualise the aggregate RGB histogram for all images"
   ]
  },
  {
   "cell_type": "code",
   "execution_count": 20,
   "metadata": {},
   "outputs": [
    {
     "data": {
      "image/png": "[encoded data removed]",
      "text/plain": [
       "<Figure size 720x576 with 1 Axes>"
      ]
     },
     "metadata": {
      "needs_background": "light"
     },
     "output_type": "display_data"
    }
   ],
   "source": [
    "# Matplot lib plot (line graph).\n",
    "plt.figure(figsize=(10, 8))\n",
    "plt.plot(bin_labels, red_channel.mean().values, color=\"red\", label=\"R\")\n",
    "plt.plot(bin_labels, green_channel.mean().values, color=\"green\", label=\"G\")\n",
    "plt.plot(bin_labels, blue_channel.mean().values, color=\"blue\", label=\"B\")\n",
    "plt.xlim((0, 255-16))\n",
    "plt.ylim(0, max(max(red_channel.mean().values), max(green_channel.mean().values), max(blue_channel.mean().values)) + 25)  # Add padding.\n",
    "plt.xlabel(\"Bins\", fontsize=fontsizes['axis'])\n",
    "plt.ylabel(\"Average Pixel Frequency\", fontsize=fontsizes['axis'])\n",
    "plt.title(\"Average RGB Histogram of all images in the training set\", fontsize=fontsizes['title'])\n",
    "plt.grid(color='#95a5a6', linestyle='-', linewidth=1, axis='y', alpha=0.5)\n",
    "plt.legend()\n",
    "    \n",
    "# Save and display chart.\n",
    "plt.savefig(\"rgb_avg_hist_all_training_set.png\")\n",
    "plt.show()"
   ]
  },
  {
   "cell_type": "markdown",
   "metadata": {},
   "source": [
    "### D. Class ID"
   ]
  },
  {
   "cell_type": "code",
   "execution_count": 30,
   "metadata": {},
   "outputs": [
    {
     "name": "stdout",
     "output_type": "stream",
     "text": [
      "<class 'pandas.core.frame.DataFrame'>\n",
      "RangeIndex: 62210 entries, 0 to 62209\n",
      "Data columns (total 1 columns):\n",
      " #   Column  Non-Null Count  Dtype \n",
      "---  ------  --------------  ----- \n",
      " 0   0       62210 non-null  object\n",
      "dtypes: object(1)\n",
      "memory usage: 486.1+ KB\n"
     ]
    }
   ],
   "source": [
    "y_train_multi.info()"
   ]
  },
  {
   "cell_type": "markdown",
   "metadata": {},
   "source": [
    "Count the occurences (and relative % distribution) of each class in the training set."
   ]
  },
  {
   "cell_type": "code",
   "execution_count": 57,
   "metadata": {},
   "outputs": [
    {
     "data": {
      "text/plain": [
       "{'whitecoat': {'occurences': 4981, 'distribution': 0.08007},\n",
       " 'background': {'occurences': 54432, 'distribution': 0.87497},\n",
       " 'dead pup': {'occurences': 277, 'distribution': 0.00445},\n",
       " 'juvenile': {'occurences': 248, 'distribution': 0.00399},\n",
       " 'moulted pup': {'occurences': 2272, 'distribution': 0.03652}}"
      ]
     },
     "execution_count": 57,
     "metadata": {},
     "output_type": "execute_result"
    }
   ],
   "source": [
    "total_occurences = y_train_multi.shape[0]\n",
    "class_distribution = {\n",
    "    'whitecoat': {\n",
    "        'occurences': y_train_multi[0].value_counts()[\"whitecoat\"],\n",
    "        'distribution': round(y_train_multi[0].value_counts()[\"whitecoat\"] / total_occurences, 5)\n",
    "    },\n",
    "    'background': {\n",
    "        'occurences': y_train_multi[0].value_counts()[\"background\"],\n",
    "        'distribution': round(y_train_multi[0].value_counts()[\"background\"] / total_occurences, 5)\n",
    "    },\n",
    "    'dead pup': {\n",
    "        'occurences': y_train_multi[0].value_counts()[\"dead pup\"],\n",
    "        'distribution': round(y_train_multi[0].value_counts()[\"dead pup\"] / total_occurences, 5)\n",
    "    },\n",
    "    'juvenile': {\n",
    "        'occurences': y_train_multi[0].value_counts()[\"juvenile\"],\n",
    "        'distribution': round(y_train_multi[0].value_counts()[\"juvenile\"] / total_occurences, 5)\n",
    "    },\n",
    "    'moulted pup': {\n",
    "        'occurences': y_train_multi[0].value_counts()[\"moulted pup\"],\n",
    "        'distribution': round(y_train_multi[0].value_counts()[\"moulted pup\"] / total_occurences, 5)\n",
    "    },\n",
    "}\n",
    "class_distribution"
   ]
  },
  {
   "cell_type": "markdown",
   "metadata": {},
   "source": [
    "Plot the distribution of classes in the training set in a bar chart."
   ]
  },
  {
   "cell_type": "code",
   "execution_count": 58,
   "metadata": {},
   "outputs": [
    {
     "data": {
      "image/png": "[encoded data removed]",
      "text/plain": [
       "<Figure size 720x576 with 1 Axes>"
      ]
     },
     "metadata": {
      "needs_background": "light"
     },
     "output_type": "display_data"
    }
   ],
   "source": [
    "# Data preparation for bar chart.\n",
    "data = [\n",
    "    class_distribution['background']['occurences'],\n",
    "    class_distribution['whitecoat']['occurences'],\n",
    "    class_distribution['moulted pup']['occurences'],\n",
    "    class_distribution['dead pup']['occurences'],\n",
    "    class_distribution['juvenile']['occurences']\n",
    "]\n",
    "# value_labels = [class_distribution['seal']['distribution'], class_distribution['background']['distribution']]\n",
    "x_axis_labels = [\"background\", \"whitecoat\", \"moulted pup\", \"dead pup\", \"juvenile\"]\n",
    "\n",
    "# Matplot lib bar chart.\n",
    "plt.figure(figsize=(10, 8))\n",
    "plt.xticks(range(len(data)), x_axis_labels)\n",
    "plt.xlabel(\"Class\", fontsize=fontsizes['axis'])\n",
    "plt.ylabel(\"Occurences\", fontsize=fontsizes['axis'])\n",
    "plt.title(\"Multi dataset: Class frequency occurences & distribution\", fontsize=fontsizes['title'])\n",
    "plt.bar(x_axis_labels, data, color='steelblue')\n",
    "plt.grid(color='#95a5a6', linestyle='-', linewidth=1, axis='y', alpha=0.5)\n",
    "\n",
    "# Add value labels for each bar.\n",
    "for a, b in zip(x_axis_labels, data):\n",
    "    plt.text(a, b, \"{}%\".format(str(round(class_distribution[a]['distribution'] * 100, 2))), fontsize=15)\n",
    "    \n",
    "# Save and display chart.\n",
    "plt.savefig(\"multi_class_distribution.png\")\n",
    "plt.show()"
   ]
  },
  {
   "cell_type": "markdown",
   "metadata": {},
   "source": [
    "### E. Correlation"
   ]
  },
  {
   "cell_type": "code",
   "execution_count": 81,
   "metadata": {},
   "outputs": [],
   "source": [
    "# temp_data = X_train_binary.concat(y_train_binary, axis=1)\n",
    "temp_data = pd.concat([X_train_multi, y_train_multi], axis=1)"
   ]
  },
  {
   "cell_type": "code",
   "execution_count": 82,
   "metadata": {},
   "outputs": [],
   "source": [
    "correlation_matrix = temp_data.corr()"
   ]
  },
  {
   "cell_type": "code",
   "execution_count": 83,
   "metadata": {},
   "outputs": [
    {
     "data": {
      "text/html": [
       "<div>\n",
       "<style scoped>\n",
       "    .dataframe tbody tr th:only-of-type {\n",
       "        vertical-align: middle;\n",
       "    }\n",
       "\n",
       "    .dataframe tbody tr th {\n",
       "        vertical-align: top;\n",
       "    }\n",
       "\n",
       "    .dataframe thead th {\n",
       "        text-align: right;\n",
       "    }\n",
       "</style>\n",
       "<table border=\"1\" class=\"dataframe\">\n",
       "  <thead>\n",
       "    <tr style=\"text-align: right;\">\n",
       "      <th></th>\n",
       "      <th>0</th>\n",
       "      <th>1</th>\n",
       "      <th>2</th>\n",
       "      <th>3</th>\n",
       "      <th>4</th>\n",
       "      <th>5</th>\n",
       "      <th>6</th>\n",
       "      <th>7</th>\n",
       "      <th>8</th>\n",
       "      <th>9</th>\n",
       "      <th>...</th>\n",
       "      <th>954</th>\n",
       "      <th>955</th>\n",
       "      <th>956</th>\n",
       "      <th>957</th>\n",
       "      <th>958</th>\n",
       "      <th>959</th>\n",
       "      <th>960</th>\n",
       "      <th>961</th>\n",
       "      <th>962</th>\n",
       "      <th>963</th>\n",
       "    </tr>\n",
       "  </thead>\n",
       "  <tbody>\n",
       "    <tr>\n",
       "      <th>0</th>\n",
       "      <td>1.000000</td>\n",
       "      <td>0.388745</td>\n",
       "      <td>0.219949</td>\n",
       "      <td>0.092884</td>\n",
       "      <td>0.108756</td>\n",
       "      <td>-0.024468</td>\n",
       "      <td>0.061571</td>\n",
       "      <td>0.215500</td>\n",
       "      <td>0.380777</td>\n",
       "      <td>0.324075</td>\n",
       "      <td>...</td>\n",
       "      <td>0.097345</td>\n",
       "      <td>0.074151</td>\n",
       "      <td>0.067999</td>\n",
       "      <td>0.042945</td>\n",
       "      <td>0.022741</td>\n",
       "      <td>-0.002070</td>\n",
       "      <td>-0.029716</td>\n",
       "      <td>-0.089810</td>\n",
       "      <td>-0.235822</td>\n",
       "      <td>-0.343559</td>\n",
       "    </tr>\n",
       "    <tr>\n",
       "      <th>1</th>\n",
       "      <td>0.388745</td>\n",
       "      <td>1.000000</td>\n",
       "      <td>0.515055</td>\n",
       "      <td>0.260867</td>\n",
       "      <td>0.077206</td>\n",
       "      <td>-0.204973</td>\n",
       "      <td>-0.257241</td>\n",
       "      <td>-0.155534</td>\n",
       "      <td>0.065720</td>\n",
       "      <td>0.164581</td>\n",
       "      <td>...</td>\n",
       "      <td>0.097664</td>\n",
       "      <td>0.096038</td>\n",
       "      <td>0.085857</td>\n",
       "      <td>0.063156</td>\n",
       "      <td>0.031484</td>\n",
       "      <td>0.001272</td>\n",
       "      <td>-0.025729</td>\n",
       "      <td>-0.067761</td>\n",
       "      <td>-0.169202</td>\n",
       "      <td>-0.227236</td>\n",
       "    </tr>\n",
       "    <tr>\n",
       "      <th>2</th>\n",
       "      <td>0.219949</td>\n",
       "      <td>0.515055</td>\n",
       "      <td>1.000000</td>\n",
       "      <td>0.480091</td>\n",
       "      <td>0.221800</td>\n",
       "      <td>-0.135615</td>\n",
       "      <td>-0.272108</td>\n",
       "      <td>-0.264674</td>\n",
       "      <td>-0.110492</td>\n",
       "      <td>0.091753</td>\n",
       "      <td>...</td>\n",
       "      <td>0.113465</td>\n",
       "      <td>0.106074</td>\n",
       "      <td>0.090703</td>\n",
       "      <td>0.068948</td>\n",
       "      <td>0.034869</td>\n",
       "      <td>-0.003481</td>\n",
       "      <td>-0.036077</td>\n",
       "      <td>-0.077017</td>\n",
       "      <td>-0.169665</td>\n",
       "      <td>-0.212596</td>\n",
       "    </tr>\n",
       "    <tr>\n",
       "      <th>3</th>\n",
       "      <td>0.092884</td>\n",
       "      <td>0.260867</td>\n",
       "      <td>0.480091</td>\n",
       "      <td>1.000000</td>\n",
       "      <td>0.414969</td>\n",
       "      <td>0.077781</td>\n",
       "      <td>-0.148070</td>\n",
       "      <td>-0.222291</td>\n",
       "      <td>-0.163376</td>\n",
       "      <td>0.028317</td>\n",
       "      <td>...</td>\n",
       "      <td>0.102992</td>\n",
       "      <td>0.082700</td>\n",
       "      <td>0.067640</td>\n",
       "      <td>0.040231</td>\n",
       "      <td>0.008066</td>\n",
       "      <td>-0.026142</td>\n",
       "      <td>-0.049678</td>\n",
       "      <td>-0.084797</td>\n",
       "      <td>-0.172714</td>\n",
       "      <td>-0.211647</td>\n",
       "    </tr>\n",
       "    <tr>\n",
       "      <th>4</th>\n",
       "      <td>0.108756</td>\n",
       "      <td>0.077206</td>\n",
       "      <td>0.221800</td>\n",
       "      <td>0.414969</td>\n",
       "      <td>1.000000</td>\n",
       "      <td>0.407485</td>\n",
       "      <td>0.178999</td>\n",
       "      <td>0.024865</td>\n",
       "      <td>-0.045375</td>\n",
       "      <td>-0.029298</td>\n",
       "      <td>...</td>\n",
       "      <td>0.089163</td>\n",
       "      <td>0.062447</td>\n",
       "      <td>0.044336</td>\n",
       "      <td>0.020868</td>\n",
       "      <td>0.000932</td>\n",
       "      <td>-0.022146</td>\n",
       "      <td>-0.040774</td>\n",
       "      <td>-0.072734</td>\n",
       "      <td>-0.162387</td>\n",
       "      <td>-0.230415</td>\n",
       "    </tr>\n",
       "    <tr>\n",
       "      <th>...</th>\n",
       "      <td>...</td>\n",
       "      <td>...</td>\n",
       "      <td>...</td>\n",
       "      <td>...</td>\n",
       "      <td>...</td>\n",
       "      <td>...</td>\n",
       "      <td>...</td>\n",
       "      <td>...</td>\n",
       "      <td>...</td>\n",
       "      <td>...</td>\n",
       "      <td>...</td>\n",
       "      <td>...</td>\n",
       "      <td>...</td>\n",
       "      <td>...</td>\n",
       "      <td>...</td>\n",
       "      <td>...</td>\n",
       "      <td>...</td>\n",
       "      <td>...</td>\n",
       "      <td>...</td>\n",
       "      <td>...</td>\n",
       "      <td>...</td>\n",
       "    </tr>\n",
       "    <tr>\n",
       "      <th>959</th>\n",
       "      <td>-0.002070</td>\n",
       "      <td>0.001272</td>\n",
       "      <td>-0.003481</td>\n",
       "      <td>-0.026142</td>\n",
       "      <td>-0.022146</td>\n",
       "      <td>-0.014858</td>\n",
       "      <td>0.009702</td>\n",
       "      <td>0.023156</td>\n",
       "      <td>0.018129</td>\n",
       "      <td>-0.004579</td>\n",
       "      <td>...</td>\n",
       "      <td>-0.066233</td>\n",
       "      <td>0.099485</td>\n",
       "      <td>0.285446</td>\n",
       "      <td>0.545519</td>\n",
       "      <td>0.807053</td>\n",
       "      <td>1.000000</td>\n",
       "      <td>0.805025</td>\n",
       "      <td>0.497614</td>\n",
       "      <td>0.270341</td>\n",
       "      <td>-0.002564</td>\n",
       "    </tr>\n",
       "    <tr>\n",
       "      <th>960</th>\n",
       "      <td>-0.029716</td>\n",
       "      <td>-0.025729</td>\n",
       "      <td>-0.036077</td>\n",
       "      <td>-0.049678</td>\n",
       "      <td>-0.040774</td>\n",
       "      <td>-0.020704</td>\n",
       "      <td>0.004571</td>\n",
       "      <td>0.012414</td>\n",
       "      <td>0.004367</td>\n",
       "      <td>-0.022646</td>\n",
       "      <td>...</td>\n",
       "      <td>-0.126384</td>\n",
       "      <td>-0.016734</td>\n",
       "      <td>0.118702</td>\n",
       "      <td>0.294063</td>\n",
       "      <td>0.524186</td>\n",
       "      <td>0.805025</td>\n",
       "      <td>1.000000</td>\n",
       "      <td>0.789823</td>\n",
       "      <td>0.466384</td>\n",
       "      <td>0.075776</td>\n",
       "    </tr>\n",
       "    <tr>\n",
       "      <th>961</th>\n",
       "      <td>-0.089810</td>\n",
       "      <td>-0.067761</td>\n",
       "      <td>-0.077017</td>\n",
       "      <td>-0.084797</td>\n",
       "      <td>-0.072734</td>\n",
       "      <td>-0.035115</td>\n",
       "      <td>-0.016770</td>\n",
       "      <td>-0.016361</td>\n",
       "      <td>-0.022092</td>\n",
       "      <td>-0.064513</td>\n",
       "      <td>...</td>\n",
       "      <td>-0.165392</td>\n",
       "      <td>-0.083824</td>\n",
       "      <td>0.001111</td>\n",
       "      <td>0.120936</td>\n",
       "      <td>0.276844</td>\n",
       "      <td>0.497614</td>\n",
       "      <td>0.789823</td>\n",
       "      <td>1.000000</td>\n",
       "      <td>0.724038</td>\n",
       "      <td>0.215676</td>\n",
       "    </tr>\n",
       "    <tr>\n",
       "      <th>962</th>\n",
       "      <td>-0.235822</td>\n",
       "      <td>-0.169202</td>\n",
       "      <td>-0.169665</td>\n",
       "      <td>-0.172714</td>\n",
       "      <td>-0.162387</td>\n",
       "      <td>-0.078546</td>\n",
       "      <td>-0.067711</td>\n",
       "      <td>-0.089883</td>\n",
       "      <td>-0.093672</td>\n",
       "      <td>-0.169418</td>\n",
       "      <td>...</td>\n",
       "      <td>-0.218051</td>\n",
       "      <td>-0.148434</td>\n",
       "      <td>-0.080083</td>\n",
       "      <td>0.013028</td>\n",
       "      <td>0.125078</td>\n",
       "      <td>0.270341</td>\n",
       "      <td>0.466384</td>\n",
       "      <td>0.724038</td>\n",
       "      <td>1.000000</td>\n",
       "      <td>0.565287</td>\n",
       "    </tr>\n",
       "    <tr>\n",
       "      <th>963</th>\n",
       "      <td>-0.343559</td>\n",
       "      <td>-0.227236</td>\n",
       "      <td>-0.212596</td>\n",
       "      <td>-0.211647</td>\n",
       "      <td>-0.230415</td>\n",
       "      <td>-0.155829</td>\n",
       "      <td>-0.160721</td>\n",
       "      <td>-0.214288</td>\n",
       "      <td>-0.187307</td>\n",
       "      <td>-0.269576</td>\n",
       "      <td>...</td>\n",
       "      <td>-0.226496</td>\n",
       "      <td>-0.193009</td>\n",
       "      <td>-0.155834</td>\n",
       "      <td>-0.112809</td>\n",
       "      <td>-0.064245</td>\n",
       "      <td>-0.002564</td>\n",
       "      <td>0.075776</td>\n",
       "      <td>0.215676</td>\n",
       "      <td>0.565287</td>\n",
       "      <td>1.000000</td>\n",
       "    </tr>\n",
       "  </tbody>\n",
       "</table>\n",
       "<p>964 rows × 964 columns</p>\n",
       "</div>"
      ],
      "text/plain": [
       "          0         1         2         3         4         5         6    \\\n",
       "0    1.000000  0.388745  0.219949  0.092884  0.108756 -0.024468  0.061571   \n",
       "1    0.388745  1.000000  0.515055  0.260867  0.077206 -0.204973 -0.257241   \n",
       "2    0.219949  0.515055  1.000000  0.480091  0.221800 -0.135615 -0.272108   \n",
       "3    0.092884  0.260867  0.480091  1.000000  0.414969  0.077781 -0.148070   \n",
       "4    0.108756  0.077206  0.221800  0.414969  1.000000  0.407485  0.178999   \n",
       "..        ...       ...       ...       ...       ...       ...       ...   \n",
       "959 -0.002070  0.001272 -0.003481 -0.026142 -0.022146 -0.014858  0.009702   \n",
       "960 -0.029716 -0.025729 -0.036077 -0.049678 -0.040774 -0.020704  0.004571   \n",
       "961 -0.089810 -0.067761 -0.077017 -0.084797 -0.072734 -0.035115 -0.016770   \n",
       "962 -0.235822 -0.169202 -0.169665 -0.172714 -0.162387 -0.078546 -0.067711   \n",
       "963 -0.343559 -0.227236 -0.212596 -0.211647 -0.230415 -0.155829 -0.160721   \n",
       "\n",
       "          7         8         9    ...       954       955       956  \\\n",
       "0    0.215500  0.380777  0.324075  ...  0.097345  0.074151  0.067999   \n",
       "1   -0.155534  0.065720  0.164581  ...  0.097664  0.096038  0.085857   \n",
       "2   -0.264674 -0.110492  0.091753  ...  0.113465  0.106074  0.090703   \n",
       "3   -0.222291 -0.163376  0.028317  ...  0.102992  0.082700  0.067640   \n",
       "4    0.024865 -0.045375 -0.029298  ...  0.089163  0.062447  0.044336   \n",
       "..        ...       ...       ...  ...       ...       ...       ...   \n",
       "959  0.023156  0.018129 -0.004579  ... -0.066233  0.099485  0.285446   \n",
       "960  0.012414  0.004367 -0.022646  ... -0.126384 -0.016734  0.118702   \n",
       "961 -0.016361 -0.022092 -0.064513  ... -0.165392 -0.083824  0.001111   \n",
       "962 -0.089883 -0.093672 -0.169418  ... -0.218051 -0.148434 -0.080083   \n",
       "963 -0.214288 -0.187307 -0.269576  ... -0.226496 -0.193009 -0.155834   \n",
       "\n",
       "          957       958       959       960       961       962       963  \n",
       "0    0.042945  0.022741 -0.002070 -0.029716 -0.089810 -0.235822 -0.343559  \n",
       "1    0.063156  0.031484  0.001272 -0.025729 -0.067761 -0.169202 -0.227236  \n",
       "2    0.068948  0.034869 -0.003481 -0.036077 -0.077017 -0.169665 -0.212596  \n",
       "3    0.040231  0.008066 -0.026142 -0.049678 -0.084797 -0.172714 -0.211647  \n",
       "4    0.020868  0.000932 -0.022146 -0.040774 -0.072734 -0.162387 -0.230415  \n",
       "..        ...       ...       ...       ...       ...       ...       ...  \n",
       "959  0.545519  0.807053  1.000000  0.805025  0.497614  0.270341 -0.002564  \n",
       "960  0.294063  0.524186  0.805025  1.000000  0.789823  0.466384  0.075776  \n",
       "961  0.120936  0.276844  0.497614  0.789823  1.000000  0.724038  0.215676  \n",
       "962  0.013028  0.125078  0.270341  0.466384  0.724038  1.000000  0.565287  \n",
       "963 -0.112809 -0.064245 -0.002564  0.075776  0.215676  0.565287  1.000000  \n",
       "\n",
       "[964 rows x 964 columns]"
      ]
     },
     "execution_count": 83,
     "metadata": {},
     "output_type": "execute_result"
    }
   ],
   "source": [
    "correlation_matrix"
   ]
  },
  {
   "cell_type": "code",
   "execution_count": 84,
   "metadata": {},
   "outputs": [
    {
     "name": "stdout",
     "output_type": "stream",
     "text": [
      "10 features with the strongest positive correlation with the  output:\n"
     ]
    },
    {
     "data": {
      "text/plain": [
       "963    1.000000\n",
       "947    0.999536\n",
       "931    0.999236\n",
       "962    0.565287\n",
       "930    0.564637\n",
       "946    0.549370\n",
       "961    0.215676\n",
       "929    0.206197\n",
       "945    0.189688\n",
       "948    0.082540\n",
       "960    0.075776\n",
       "Name: 963, dtype: float64"
      ]
     },
     "metadata": {},
     "output_type": "display_data"
    },
    {
     "name": "stdout",
     "output_type": "stream",
     "text": [
      "\n",
      "10 features with the strongest negative correlation with the  output:\n"
     ]
    },
    {
     "data": {
      "text/plain": [
       "891   -0.377049\n",
       "855   -0.373452\n",
       "738   -0.349698\n",
       "882   -0.348397\n",
       "0     -0.343559\n",
       "747   -0.342780\n",
       "774   -0.339837\n",
       "819   -0.338024\n",
       "153   -0.333938\n",
       "117   -0.327793\n",
       "Name: 963, dtype: float64"
      ]
     },
     "metadata": {},
     "output_type": "display_data"
    }
   ],
   "source": [
    "print(\"10 features with the strongest positive correlation with the  output:\")\n",
    "display(correlation_matrix.iloc[963].sort_values(ascending=False).head(11))\n",
    "print(\"\\n10 features with the strongest negative correlation with the  output:\")\n",
    "display(correlation_matrix.iloc[963].sort_values(ascending=True).head(10))"
   ]
  },
  {
   "cell_type": "markdown",
   "metadata": {},
   "source": [
    "**Observations**:\n",
    "* The features that have the strongest positive correlation with the output label are between the range 929 to  963, falling into the category of RGB histogram features.\n",
    "* The features that have the strongest negative correlation with the output label are between the range 0 to 891, falling into the category of HoG features.\n",
    "* No normal distribution features show strong correlation.\n",
    "\n",
    "--> Can drop the normal distribution features from the data set."
   ]
  },
  {
   "cell_type": "markdown",
   "metadata": {},
   "source": [
    "# Part 4: Prepare inputs"
   ]
  },
  {
   "cell_type": "markdown",
   "metadata": {},
   "source": [
    "### Split Train/Validation data sets"
   ]
  },
  {
   "cell_type": "markdown",
   "metadata": {},
   "source": [
    "The data is already split into training and testing sets. To avoid data snooping, the testing set is ignored until the evaluation section.\n",
    "\n",
    "However, the training set is further split between a training and a validation set to evaluate its performance during training.\n",
    "\n",
    "A randomised 80%/20% split is used rather than stratified sampling because the dataset is large enough. According to Hands-On ML, if the dataset is large enough, the risk of introducing sampling bias is low (he mentions a set of 1,000 rows, whereas ours has 62210 rows).\n",
    "\n",
    "The random number generator's seed is set at a fixed value to ensure that it always generates the same shuffle indices when re-running the code, ensuring reproducibility."
   ]
  },
  {
   "cell_type": "code",
   "execution_count": 28,
   "metadata": {},
   "outputs": [],
   "source": [
    "# X_train, X_validate, y_train, y_validate = train_test_split(X_train_binary, \n",
    "#                                                             y_train_binary, \n",
    "#                                                             test_size=0.2, \n",
    "#                                                             random_state=RANDOM_SEED)"
   ]
  },
  {
   "cell_type": "markdown",
   "metadata": {},
   "source": [
    "Confirm new training dataset sizes:"
   ]
  },
  {
   "cell_type": "code",
   "execution_count": 29,
   "metadata": {},
   "outputs": [],
   "source": [
    "# print(\"Training set split:\\nTrain set size = {}\\nValidation set size = {}\".format(X_train.shape, X_validate.shape))"
   ]
  },
  {
   "cell_type": "markdown",
   "metadata": {},
   "source": [
    "### Data conversion"
   ]
  },
  {
   "cell_type": "markdown",
   "metadata": {},
   "source": [
    "Convert class ID output to boolean integer format for logistic regression (*1* if it's a \"seal\", *0* if it's a \"background\")."
   ]
  },
  {
   "cell_type": "code",
   "execution_count": 1,
   "metadata": {},
   "outputs": [
    {
     "ename": "NameError",
     "evalue": "name 'y_train_binary' is not defined",
     "output_type": "error",
     "traceback": [
      "\u001b[0;31m---------------------------------------------------------------------------\u001b[0m",
      "\u001b[0;31mNameError\u001b[0m                                 Traceback (most recent call last)",
      "\u001b[0;32m<ipython-input-1-71a8d88bb34c>\u001b[0m in \u001b[0;36m<module>\u001b[0;34m\u001b[0m\n\u001b[0;32m----> 1\u001b[0;31m \u001b[0my_train_seal\u001b[0m \u001b[0;34m=\u001b[0m \u001b[0;34m(\u001b[0m\u001b[0my_train_binary\u001b[0m \u001b[0;34m==\u001b[0m \u001b[0;34m\"seal\"\u001b[0m\u001b[0;34m)\u001b[0m\u001b[0;34m.\u001b[0m\u001b[0mastype\u001b[0m\u001b[0;34m(\u001b[0m\u001b[0mnp\u001b[0m\u001b[0;34m.\u001b[0m\u001b[0mint\u001b[0m\u001b[0;34m)\u001b[0m\u001b[0;34m\u001b[0m\u001b[0;34m\u001b[0m\u001b[0m\n\u001b[0m\u001b[1;32m      2\u001b[0m \u001b[0my_train_seal_unravelled\u001b[0m \u001b[0;34m=\u001b[0m \u001b[0my_train_seal\u001b[0m\u001b[0;34m.\u001b[0m\u001b[0mvalues\u001b[0m\u001b[0;34m.\u001b[0m\u001b[0mravel\u001b[0m\u001b[0;34m(\u001b[0m\u001b[0;34m)\u001b[0m\u001b[0;34m\u001b[0m\u001b[0;34m\u001b[0m\u001b[0m\n",
      "\u001b[0;31mNameError\u001b[0m: name 'y_train_binary' is not defined"
     ]
    }
   ],
   "source": [
    "# y_train_seal = (y_train_binary == \"seal\").astype(np.int)\n",
    "# y_train_seal_unravelled = y_train_seal.values.ravel()"
   ]
  },
  {
   "cell_type": "markdown",
   "metadata": {},
   "source": [
    "# Parts 5/6: Select & train classification models"
   ]
  },
  {
   "cell_type": "code",
   "execution_count": 2,
   "metadata": {},
   "outputs": [],
   "source": [
    "def perform_cross_validation_accuracy(model, X, y, folds = 3):\n",
    "    accuracy_scores = cross_val_score(model, X, y, cv=folds, scoring=\"accuracy\")\n",
    "    print(\"Accuracies: {}\".format(accuracy_scores))\n",
    "    print(\"Average accuracy over {} folds: {}%\".format(folds, round(accuracy_scores.mean() * 100, 2)))"
   ]
  },
  {
   "cell_type": "code",
   "execution_count": 16,
   "metadata": {},
   "outputs": [],
   "source": [
    "def plot_pretty_confusion_matrix(cm, labels: list, title: str, is_normalised: bool) -> None:\n",
    "    annot_format = \"d\"\n",
    "    if is_normalised:\n",
    "        cm = cm.astype('float') / cm.sum(axis=1)[:, np.newaxis]\n",
    "        annot_format = \".2f\"\n",
    "    cm_df = pd.DataFrame(cm, index=labels, columns=labels)\n",
    "    fig = plt.figure(figsize=(8,5))\n",
    "    heatmap = sns.heatmap(cm_df, cmap=\"YlGnBu\", annot=True, fmt=annot_format)\n",
    "    heatmap.yaxis.set_ticklabels(heatmap.yaxis.get_ticklabels(), rotation=0, ha='right', fontsize=fontsizes['ticks'])\n",
    "    heatmap.xaxis.set_ticklabels(heatmap.xaxis.get_ticklabels(), rotation=45, ha='right', fontsize=fontsizes['ticks'])\n",
    "    plt.ylabel('True label', fontsize=fontsizes['axis'])\n",
    "    plt.xlabel('Predicted label', fontsize=fontsizes['axis'])\n",
    "    plt.title(title, fontsize=fontsizes['title'])"
   ]
  },
  {
   "cell_type": "code",
   "execution_count": 33,
   "metadata": {},
   "outputs": [],
   "source": [
    "def save_model(model, model_type):\n",
    "    \"\"\"\n",
    "    Function to save the model to a file.\n",
    "    :param model:\n",
    "    :param model_type:\n",
    "    :return:\n",
    "    \"\"\"\n",
    "    joblib.dump(model, \"trained_models/{}.pkl\".format(model_type))"
   ]
  },
  {
   "cell_type": "code",
   "execution_count": 34,
   "metadata": {},
   "outputs": [],
   "source": [
    "def load_model(model_type):\n",
    "    \"\"\"\n",
    "    Function to load model.\n",
    "    :param model_type:\n",
    "    :return:\n",
    "    \"\"\"\n",
    "    return joblib.load(\"trained_models/{}.pkl\".format(model_type))"
   ]
  },
  {
   "cell_type": "markdown",
   "metadata": {},
   "source": [
    "## A. Binary SGD Classifier"
   ]
  },
  {
   "cell_type": "code",
   "execution_count": 12,
   "metadata": {},
   "outputs": [
    {
     "name": "stdout",
     "output_type": "stream",
     "text": [
      "CPU times: user 74 µs, sys: 0 ns, total: 74 µs\n",
      "Wall time: 78 µs\n"
     ]
    }
   ],
   "source": [
    "%%time\n",
    "y_train_unravelled = y_train_multi.values.ravel()\n",
    "sgd_classifier = SGDClassifier(max_iter=1000, tol=1e-3, random_state=RANDOM_SEED)\n",
    "sgd_classifier.fit(X_train_multi, y_train_multi)\n",
    "# use values to get the values in an array, so a shape of (n,1) and then ravel() to the convert that array shape to (n, )"
   ]
  },
  {
   "cell_type": "markdown",
   "metadata": {},
   "source": [
    "#### 3-fold using all features"
   ]
  },
  {
   "cell_type": "code",
   "execution_count": 13,
   "metadata": {},
   "outputs": [
    {
     "name": "stdout",
     "output_type": "stream",
     "text": [
      "Accuracies: [0.81810291 0.8476636  0.87490355]\n",
      "Average accuracy over 3 folds: 84.69%\n",
      "CPU times: user 3min 46s, sys: 2.43 s, total: 3min 49s\n",
      "Wall time: 3min 50s\n"
     ]
    }
   ],
   "source": [
    "%%time\n",
    "perform_cross_validation_accuracy(sgd_classifier, X_train_multi, y_train_unravelled)"
   ]
  },
  {
   "cell_type": "code",
   "execution_count": 14,
   "metadata": {},
   "outputs": [],
   "source": [
    "sgd_classifier_accuracy_predictions = cross_val_predict(sgd_classifier, X_train_multi, y_train_unravelled, cv=3)\n",
    "cm = confusion_matrix(y_train_multi, sgd_classifier_accuracy_predictions)"
   ]
  },
  {
   "cell_type": "code",
   "execution_count": 18,
   "metadata": {},
   "outputs": [
    {
     "data": {
      "image/png": "[encoded data removed]",
      "text/plain": [
       "<Figure size 576x360 with 2 Axes>"
      ]
     },
     "metadata": {
      "needs_background": "light"
     },
     "output_type": "display_data"
    },
    {
     "data": {
      "image/png": "[encoded data removed]",
      "text/plain": [
       "<Figure size 576x360 with 2 Axes>"
      ]
     },
     "metadata": {
      "needs_background": "light"
     },
     "output_type": "display_data"
    }
   ],
   "source": [
    "plot_pretty_confusion_matrix(cm, [\"Background\", \"Dead Pups\", \"Juvenile\", \"Moulted Pup\", \"Whitecoat\"], \"Confusion matrix (not normalised)\", False)\n",
    "plot_pretty_confusion_matrix(cm, [\"Background\", \"Dead Pups\", \"Juvenile\", \"Moulted Pup\", \"Whitecoat\"], \"Confusion matrix (normalised)\", True)"
   ]
  },
  {
   "cell_type": "markdown",
   "metadata": {},
   "source": [
    "Observations:\n",
    "\n",
    "* Many classifications are being made as \"background\" and because 87.5% of the images are backgrounds, the classifier will be right most of the time!\n",
    "\n",
    "--> Accuracy is not a very good measure of the efficiency of the classifier. If the classifier always classified all images as \"background\", it would be  right 87.5% of the time, which is very high for a dumb classifier."
   ]
  },
  {
   "cell_type": "markdown",
   "metadata": {},
   "source": [
    "#### 3-fold using HoG features only"
   ]
  },
  {
   "cell_type": "code",
   "execution_count": 38,
   "metadata": {},
   "outputs": [
    {
     "name": "stdout",
     "output_type": "stream",
     "text": [
      "Accuracies: [0.97524514 0.95563414 0.97203022 0.96736859 0.97122649 0.96913679\n",
      " 0.96270696 0.95386594 0.94872207 0.93714837]\n",
      "Average accuracy over 10 folds: 96.13%\n",
      "CPU times: user 22.5 s, sys: 3 s, total: 25.5 s\n",
      "Wall time: 21.3 s\n"
     ]
    }
   ],
   "source": [
    "%%time\n",
    "perform_cross_validation_accuracy(sgd_classifier, X_train_HoG, y_train_seal_unravelled, 10)"
   ]
  },
  {
   "cell_type": "markdown",
   "metadata": {},
   "source": [
    "#### 3-fold using RGB Histogram features only"
   ]
  },
  {
   "cell_type": "code",
   "execution_count": 39,
   "metadata": {},
   "outputs": [
    {
     "name": "stdout",
     "output_type": "stream",
     "text": [
      "Accuracies: [0.76273911 0.83250281 0.89165729 0.88474522 0.87831538 0.88426298\n",
      " 0.86963511 0.70262016 0.85227455 0.50699244]\n",
      "Average accuracy over 10 folds: 80.66%\n",
      "CPU times: user 43.3 s, sys: 745 ms, total: 44.1 s\n",
      "Wall time: 39.1 s\n"
     ]
    }
   ],
   "source": [
    "%%time\n",
    "perform_cross_validation_accuracy(sgd_classifier, X_train_colour_hists, y_train_seal_unravelled, 10)"
   ]
  },
  {
   "cell_type": "markdown",
   "metadata": {},
   "source": [
    "#### 3-fold using HoG + RGB Histogram features"
   ]
  },
  {
   "cell_type": "code",
   "execution_count": 40,
   "metadata": {},
   "outputs": [
    {
     "data": {
      "text/plain": [
       "(62210, 948)"
      ]
     },
     "execution_count": 40,
     "metadata": {},
     "output_type": "execute_result"
    }
   ],
   "source": [
    "X_train_binary_good_features = pd.concat([X_train_HoG, X_train_colour_hists], axis=1)\n",
    "X_train_binary_good_features.shape"
   ]
  },
  {
   "cell_type": "code",
   "execution_count": 41,
   "metadata": {},
   "outputs": [
    {
     "name": "stdout",
     "output_type": "stream",
     "text": [
      "Accuracies: [0.89588658 0.8911125  0.80420525]\n",
      "Average accuracy over 3 folds: 86.37%\n",
      "CPU times: user 1min 3s, sys: 1.14 s, total: 1min 5s\n",
      "Wall time: 1min 3s\n"
     ]
    }
   ],
   "source": [
    "%%time\n",
    "X_train_binary_good_features = pd.concat([X_train_HoG, X_train_colour_hists], axis=1)\n",
    "perform_cross_validation_accuracy(sgd_classifier, X_train_binary_good_features, y_train_seal_unravelled, 3)"
   ]
  },
  {
   "cell_type": "markdown",
   "metadata": {},
   "source": [
    "## B. Logistic Regression"
   ]
  },
  {
   "cell_type": "code",
   "execution_count": 42,
   "metadata": {},
   "outputs": [
    {
     "name": "stdout",
     "output_type": "stream",
     "text": [
      "CPU times: user 6min 34s, sys: 11.1 s, total: 6min 45s\n",
      "Wall time: 1min 8s\n"
     ]
    },
    {
     "name": "stderr",
     "output_type": "stream",
     "text": [
      "/Users/ajaamour/Environments/Seal-Pup-Aerial-Imagery-Classifier/lib/python3.7/site-packages/sklearn/linear_model/_logistic.py:940: ConvergenceWarning: lbfgs failed to converge (status=1):\n",
      "STOP: TOTAL NO. of ITERATIONS REACHED LIMIT.\n",
      "\n",
      "Increase the number of iterations (max_iter) or scale the data as shown in:\n",
      "    https://scikit-learn.org/stable/modules/preprocessing.html\n",
      "Please also refer to the documentation for alternative solver options:\n",
      "    https://scikit-learn.org/stable/modules/linear_model.html#logistic-regression\n",
      "  extra_warning_msg=_LOGISTIC_SOLVER_CONVERGENCE_MSG)\n"
     ]
    },
    {
     "data": {
      "text/plain": [
       "LogisticRegression(C=1.0, class_weight=None, dual=False, fit_intercept=True,\n",
       "                   intercept_scaling=1, l1_ratio=None, max_iter=1000,\n",
       "                   multi_class='auto', n_jobs=None, penalty='l2',\n",
       "                   random_state=111, solver='lbfgs', tol=0.001, verbose=0,\n",
       "                   warm_start=False)"
      ]
     },
     "execution_count": 42,
     "metadata": {},
     "output_type": "execute_result"
    }
   ],
   "source": [
    "%%time\n",
    "logistic_regression = LogisticRegression(max_iter=1000, tol=1e-3, random_state=RANDOM_SEED)\n",
    "logistic_regression.fit(X_train_binary, y_train_seal_unravelled)"
   ]
  },
  {
   "cell_type": "code",
   "execution_count": 43,
   "metadata": {},
   "outputs": [
    {
     "data": {
      "image/png": "[encoded data removed]",
      "text/plain": [
       "<Figure size 576x360 with 2 Axes>"
      ]
     },
     "metadata": {
      "needs_background": "light"
     },
     "output_type": "display_data"
    },
    {
     "data": {
      "image/png": "[encoded data removed]",
      "text/plain": [
       "<Figure size 576x360 with 2 Axes>"
      ]
     },
     "metadata": {
      "needs_background": "light"
     },
     "output_type": "display_data"
    }
   ],
   "source": [
    "y_prediction = logistic_regression.predict(X_train_binary)\n",
    "cm = confusion_matrix(y_train_seal, y_prediction)\n",
    "plot_pretty_confusion_matrix(cm, [\"Background\", \"Seal\"], \"Confusion matrix (not normalised)\", False)\n",
    "plot_pretty_confusion_matrix(cm, [\"Background\", \"Seal\"], \"Confusion matrix (normalised)\", True)"
   ]
  },
  {
   "cell_type": "markdown",
   "metadata": {},
   "source": [
    "## C. SVC"
   ]
  },
  {
   "cell_type": "code",
   "execution_count": 44,
   "metadata": {},
   "outputs": [
    {
     "name": "stdout",
     "output_type": "stream",
     "text": [
      "CPU times: user 2min 37s, sys: 538 ms, total: 2min 38s\n",
      "Wall time: 2min 39s\n"
     ]
    },
    {
     "name": "stderr",
     "output_type": "stream",
     "text": [
      "/Users/ajaamour/Environments/Seal-Pup-Aerial-Imagery-Classifier/lib/python3.7/site-packages/sklearn/svm/_base.py:947: ConvergenceWarning: Liblinear failed to converge, increase the number of iterations.\n",
      "  \"the number of iterations.\", ConvergenceWarning)\n"
     ]
    },
    {
     "data": {
      "text/plain": [
       "LinearSVC(C=1.0, class_weight=None, dual=True, fit_intercept=True,\n",
       "          intercept_scaling=1, loss='squared_hinge', max_iter=1000,\n",
       "          multi_class='ovr', penalty='l2', random_state=111, tol=0.001,\n",
       "          verbose=0)"
      ]
     },
     "execution_count": 44,
     "metadata": {},
     "output_type": "execute_result"
    }
   ],
   "source": [
    "%%time\n",
    "svc_classifier = LinearSVC(max_iter=1000, tol=1e-3, random_state=RANDOM_SEED)\n",
    "svc_classifier.fit(X_train_binary, y_train_seal_unravelled)"
   ]
  },
  {
   "cell_type": "code",
   "execution_count": 47,
   "metadata": {},
   "outputs": [
    {
     "name": "stderr",
     "output_type": "stream",
     "text": [
      "/Users/ajaamour/Environments/Seal-Pup-Aerial-Imagery-Classifier/lib/python3.7/site-packages/sklearn/svm/_base.py:947: ConvergenceWarning: Liblinear failed to converge, increase the number of iterations.\n",
      "  \"the number of iterations.\", ConvergenceWarning)\n",
      "/Users/ajaamour/Environments/Seal-Pup-Aerial-Imagery-Classifier/lib/python3.7/site-packages/sklearn/svm/_base.py:947: ConvergenceWarning: Liblinear failed to converge, increase the number of iterations.\n",
      "  \"the number of iterations.\", ConvergenceWarning)\n"
     ]
    },
    {
     "name": "stdout",
     "output_type": "stream",
     "text": [
      "Accuracies: [0.69233737 0.87987655 0.87784529]\n",
      "Average accuracy over 3 folds: 81.67%\n",
      "CPU times: user 6min 28s, sys: 4.52 s, total: 6min 33s\n",
      "Wall time: 6min 35s\n"
     ]
    },
    {
     "name": "stderr",
     "output_type": "stream",
     "text": [
      "/Users/ajaamour/Environments/Seal-Pup-Aerial-Imagery-Classifier/lib/python3.7/site-packages/sklearn/svm/_base.py:947: ConvergenceWarning: Liblinear failed to converge, increase the number of iterations.\n",
      "  \"the number of iterations.\", ConvergenceWarning)\n"
     ]
    }
   ],
   "source": [
    "%%time\n",
    "perform_cross_validation_accuracy(svc_classifier, X_train_binary, y_train_seal_unravelled)"
   ]
  },
  {
   "cell_type": "markdown",
   "metadata": {},
   "source": [
    "# Part 7: Evaluating & comparing models performance "
   ]
  },
  {
   "cell_type": "markdown",
   "metadata": {},
   "source": [
    "### Load testing data"
   ]
  },
  {
   "cell_type": "code",
   "execution_count": 45,
   "metadata": {},
   "outputs": [],
   "source": [
    "X_test = pd.read_csv(\"../data/binary/X_test.csv\")"
   ]
  },
  {
   "cell_type": "markdown",
   "metadata": {},
   "source": [
    "# Part 8: Critical discussion of the results, approach and methods"
   ]
  },
  {
   "cell_type": "code",
   "execution_count": 46,
   "metadata": {},
   "outputs": [],
   "source": [
    "#todo"
   ]
  },
  {
   "cell_type": "markdown",
   "metadata": {},
   "source": [
    "# Helper Functions"
   ]
  },
  {
   "cell_type": "code",
   "execution_count": null,
   "metadata": {},
   "outputs": [],
   "source": []
  }
 ],
 "metadata": {
  "kernelspec": {
   "display_name": "Python 3",
   "language": "python",
   "name": "python3"
  },
  "language_info": {
   "codemirror_mode": {
    "name": "ipython",
    "version": 3
   },
   "file_extension": ".py",
   "mimetype": "text/x-python",
   "name": "python",
   "nbconvert_exporter": "python",
   "pygments_lexer": "ipython3",
   "version": "3.7.6"
  }
 },
 "nbformat": 4,
 "nbformat_minor": 4
}
