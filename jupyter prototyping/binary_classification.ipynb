{
 "cells": [
  {
   "cell_type": "markdown",
   "metadata": {},
   "source": [
    "*Note: only the \"binary\" dataset is used in the  notebook, extension to the \"multi\" dataset is done after converting to a Python project.*"
   ]
  },
  {
   "cell_type": "markdown",
   "metadata": {},
   "source": [
    "# Part 1: Data Loading"
   ]
  },
  {
   "cell_type": "markdown",
   "metadata": {},
   "source": [
    "### Import libraries"
   ]
  },
  {
   "cell_type": "code",
   "execution_count": 292,
   "metadata": {},
   "outputs": [],
   "source": [
    "import matplotlib.pyplot as plt\n",
    "import numpy as np\n",
    "import pandas as pd\n",
    "from sklearn.linear_model import SGDClassifier\n",
    "from sklearn.metrics import confusion_matrix\n",
    "from sklearn.model_selection import train_test_split"
   ]
  },
  {
   "cell_type": "code",
   "execution_count": 293,
   "metadata": {},
   "outputs": [],
   "source": [
    "RANDOM_SEED = 111"
   ]
  },
  {
   "cell_type": "markdown",
   "metadata": {},
   "source": [
    "### Load training data"
   ]
  },
  {
   "cell_type": "code",
   "execution_count": 294,
   "metadata": {},
   "outputs": [],
   "source": [
    "%%time\n",
    "X_train_binary = pd.read_csv(\"../data/binary/X_train.csv\", header=None)\n",
    "y_train_binary = pd.read_csv(\"../data/binary/Y_train.csv\", header=None)"
   ]
  },
  {
   "cell_type": "markdown",
   "metadata": {},
   "source": [
    "# Part 2: Data cleaning & create new input features"
   ]
  },
  {
   "cell_type": "code",
   "execution_count": 299,
   "metadata": {},
   "outputs": [],
   "source": [
    "#todo"
   ]
  },
  {
   "cell_type": "markdown",
   "metadata": {},
   "source": [
    "# Part 3. Data Visualisation & Analysis"
   ]
  },
  {
   "cell_type": "code",
   "execution_count": 298,
   "metadata": {},
   "outputs": [
    {
     "data": {
      "text/plain": [
       "(62210, 964)"
      ]
     },
     "execution_count": 298,
     "metadata": {},
     "output_type": "execute_result"
    }
   ],
   "source": [
    "X_train_binary.shape"
   ]
  },
  {
   "cell_type": "markdown",
   "metadata": {},
   "source": [
    "--> Training data summary:\n",
    "* There are 62,210 rows (images)\n",
    "* There are 964 columns (feature):\n",
    "    * first 900 columns = **HoG (Histogram of oriented Gradients)** extracted from the image (10×10 px cells, 9 orientations, 2×2 blocks).\n",
    "    * next 16 columns drawn from a **normal distribution** (µ = 0.5, σ = 2)\n",
    "    * last 48 columns correspond to 3 **colour histograms** extracted from the same image, one for each channel (RGB), with 16 bins per channel.\n",
    "\n",
    "They are split into 3 different sets for further analysis and visualisation"
   ]
  },
  {
   "cell_type": "code",
   "execution_count": 201,
   "metadata": {},
   "outputs": [],
   "source": [
    "X_train_HoG = X_train_binary.iloc[:, :900]\n",
    "X_train_normal_dist = X_train_binary.iloc[:, 900:916]\n",
    "X_train_colour_hists = X_train_binary.iloc[:, 916:]"
   ]
  },
  {
   "cell_type": "markdown",
   "metadata": {},
   "source": [
    "### A. HoG (Histogram of oriented Gradients)"
   ]
  },
  {
   "cell_type": "code",
   "execution_count": 202,
   "metadata": {},
   "outputs": [
    {
     "data": {
      "text/html": [
       "<div>\n",
       "<style scoped>\n",
       "    .dataframe tbody tr th:only-of-type {\n",
       "        vertical-align: middle;\n",
       "    }\n",
       "\n",
       "    .dataframe tbody tr th {\n",
       "        vertical-align: top;\n",
       "    }\n",
       "\n",
       "    .dataframe thead th {\n",
       "        text-align: right;\n",
       "    }\n",
       "</style>\n",
       "<table border=\"1\" class=\"dataframe\">\n",
       "  <thead>\n",
       "    <tr style=\"text-align: right;\">\n",
       "      <th></th>\n",
       "      <th>0</th>\n",
       "      <th>1</th>\n",
       "      <th>2</th>\n",
       "      <th>3</th>\n",
       "      <th>4</th>\n",
       "      <th>5</th>\n",
       "      <th>6</th>\n",
       "      <th>7</th>\n",
       "      <th>8</th>\n",
       "      <th>9</th>\n",
       "      <th>...</th>\n",
       "      <th>890</th>\n",
       "      <th>891</th>\n",
       "      <th>892</th>\n",
       "      <th>893</th>\n",
       "      <th>894</th>\n",
       "      <th>895</th>\n",
       "      <th>896</th>\n",
       "      <th>897</th>\n",
       "      <th>898</th>\n",
       "      <th>899</th>\n",
       "    </tr>\n",
       "  </thead>\n",
       "  <tbody>\n",
       "    <tr>\n",
       "      <th>0</th>\n",
       "      <td>0.108247</td>\n",
       "      <td>0.004364</td>\n",
       "      <td>0.006292</td>\n",
       "      <td>0.012344</td>\n",
       "      <td>0.125419</td>\n",
       "      <td>0.211368</td>\n",
       "      <td>0.308308</td>\n",
       "      <td>0.308308</td>\n",
       "      <td>0.047714</td>\n",
       "      <td>0.147246</td>\n",
       "      <td>...</td>\n",
       "      <td>0.086864</td>\n",
       "      <td>0.231606</td>\n",
       "      <td>0.010222</td>\n",
       "      <td>0.111093</td>\n",
       "      <td>0.036183</td>\n",
       "      <td>0.151264</td>\n",
       "      <td>0.166743</td>\n",
       "      <td>0.216403</td>\n",
       "      <td>0.231606</td>\n",
       "      <td>0.072554</td>\n",
       "    </tr>\n",
       "    <tr>\n",
       "      <th>1</th>\n",
       "      <td>0.245888</td>\n",
       "      <td>0.057265</td>\n",
       "      <td>0.054288</td>\n",
       "      <td>0.073985</td>\n",
       "      <td>0.245888</td>\n",
       "      <td>0.143398</td>\n",
       "      <td>0.113087</td>\n",
       "      <td>0.208721</td>\n",
       "      <td>0.173131</td>\n",
       "      <td>0.245888</td>\n",
       "      <td>...</td>\n",
       "      <td>0.018032</td>\n",
       "      <td>0.204783</td>\n",
       "      <td>0.059727</td>\n",
       "      <td>0.248219</td>\n",
       "      <td>0.248219</td>\n",
       "      <td>0.248219</td>\n",
       "      <td>0.121050</td>\n",
       "      <td>0.067763</td>\n",
       "      <td>0.037096</td>\n",
       "      <td>0.025164</td>\n",
       "    </tr>\n",
       "    <tr>\n",
       "      <th>2</th>\n",
       "      <td>0.218803</td>\n",
       "      <td>0.107196</td>\n",
       "      <td>0.056075</td>\n",
       "      <td>0.108894</td>\n",
       "      <td>0.143207</td>\n",
       "      <td>0.079305</td>\n",
       "      <td>0.068837</td>\n",
       "      <td>0.147177</td>\n",
       "      <td>0.089514</td>\n",
       "      <td>0.166596</td>\n",
       "      <td>...</td>\n",
       "      <td>0.232862</td>\n",
       "      <td>0.232918</td>\n",
       "      <td>0.048630</td>\n",
       "      <td>0.105441</td>\n",
       "      <td>0.028698</td>\n",
       "      <td>0.191464</td>\n",
       "      <td>0.218813</td>\n",
       "      <td>0.232918</td>\n",
       "      <td>0.232918</td>\n",
       "      <td>0.092948</td>\n",
       "    </tr>\n",
       "    <tr>\n",
       "      <th>3</th>\n",
       "      <td>0.199052</td>\n",
       "      <td>0.099943</td>\n",
       "      <td>0.109036</td>\n",
       "      <td>0.095986</td>\n",
       "      <td>0.218288</td>\n",
       "      <td>0.205510</td>\n",
       "      <td>0.218288</td>\n",
       "      <td>0.113477</td>\n",
       "      <td>0.128925</td>\n",
       "      <td>0.218288</td>\n",
       "      <td>...</td>\n",
       "      <td>0.161302</td>\n",
       "      <td>0.234259</td>\n",
       "      <td>0.134242</td>\n",
       "      <td>0.185844</td>\n",
       "      <td>0.164967</td>\n",
       "      <td>0.234259</td>\n",
       "      <td>0.064108</td>\n",
       "      <td>0.043844</td>\n",
       "      <td>0.234259</td>\n",
       "      <td>0.119083</td>\n",
       "    </tr>\n",
       "    <tr>\n",
       "      <th>4</th>\n",
       "      <td>0.234368</td>\n",
       "      <td>0.163826</td>\n",
       "      <td>0.135215</td>\n",
       "      <td>0.234368</td>\n",
       "      <td>0.219650</td>\n",
       "      <td>0.100049</td>\n",
       "      <td>0.056125</td>\n",
       "      <td>0.065694</td>\n",
       "      <td>0.148874</td>\n",
       "      <td>0.234368</td>\n",
       "      <td>...</td>\n",
       "      <td>0.243317</td>\n",
       "      <td>0.243317</td>\n",
       "      <td>0.047693</td>\n",
       "      <td>0.084939</td>\n",
       "      <td>0.123729</td>\n",
       "      <td>0.113036</td>\n",
       "      <td>0.243317</td>\n",
       "      <td>0.194783</td>\n",
       "      <td>0.243317</td>\n",
       "      <td>0.136803</td>\n",
       "    </tr>\n",
       "  </tbody>\n",
       "</table>\n",
       "<p>5 rows × 900 columns</p>\n",
       "</div>"
      ],
      "text/plain": [
       "        0         1         2         3         4         5         6    \\\n",
       "0  0.108247  0.004364  0.006292  0.012344  0.125419  0.211368  0.308308   \n",
       "1  0.245888  0.057265  0.054288  0.073985  0.245888  0.143398  0.113087   \n",
       "2  0.218803  0.107196  0.056075  0.108894  0.143207  0.079305  0.068837   \n",
       "3  0.199052  0.099943  0.109036  0.095986  0.218288  0.205510  0.218288   \n",
       "4  0.234368  0.163826  0.135215  0.234368  0.219650  0.100049  0.056125   \n",
       "\n",
       "        7         8         9    ...       890       891       892       893  \\\n",
       "0  0.308308  0.047714  0.147246  ...  0.086864  0.231606  0.010222  0.111093   \n",
       "1  0.208721  0.173131  0.245888  ...  0.018032  0.204783  0.059727  0.248219   \n",
       "2  0.147177  0.089514  0.166596  ...  0.232862  0.232918  0.048630  0.105441   \n",
       "3  0.113477  0.128925  0.218288  ...  0.161302  0.234259  0.134242  0.185844   \n",
       "4  0.065694  0.148874  0.234368  ...  0.243317  0.243317  0.047693  0.084939   \n",
       "\n",
       "        894       895       896       897       898       899  \n",
       "0  0.036183  0.151264  0.166743  0.216403  0.231606  0.072554  \n",
       "1  0.248219  0.248219  0.121050  0.067763  0.037096  0.025164  \n",
       "2  0.028698  0.191464  0.218813  0.232918  0.232918  0.092948  \n",
       "3  0.164967  0.234259  0.064108  0.043844  0.234259  0.119083  \n",
       "4  0.123729  0.113036  0.243317  0.194783  0.243317  0.136803  \n",
       "\n",
       "[5 rows x 900 columns]"
      ]
     },
     "execution_count": 202,
     "metadata": {},
     "output_type": "execute_result"
    }
   ],
   "source": [
    "X_train_HoG.head(5)"
   ]
  },
  {
   "cell_type": "code",
   "execution_count": 203,
   "metadata": {},
   "outputs": [
    {
     "name": "stdout",
     "output_type": "stream",
     "text": [
      "<class 'pandas.core.frame.DataFrame'>\n",
      "RangeIndex: 62210 entries, 0 to 62209\n",
      "Columns: 900 entries, 0 to 899\n",
      "dtypes: float64(900)\n",
      "memory usage: 427.2 MB\n"
     ]
    }
   ],
   "source": [
    "X_train_HoG.info()"
   ]
  },
  {
   "cell_type": "markdown",
   "metadata": {},
   "source": [
    "### B. Normal distribution"
   ]
  },
  {
   "cell_type": "code",
   "execution_count": 204,
   "metadata": {},
   "outputs": [
    {
     "data": {
      "text/html": [
       "<div>\n",
       "<style scoped>\n",
       "    .dataframe tbody tr th:only-of-type {\n",
       "        vertical-align: middle;\n",
       "    }\n",
       "\n",
       "    .dataframe tbody tr th {\n",
       "        vertical-align: top;\n",
       "    }\n",
       "\n",
       "    .dataframe thead th {\n",
       "        text-align: right;\n",
       "    }\n",
       "</style>\n",
       "<table border=\"1\" class=\"dataframe\">\n",
       "  <thead>\n",
       "    <tr style=\"text-align: right;\">\n",
       "      <th></th>\n",
       "      <th>900</th>\n",
       "      <th>901</th>\n",
       "      <th>902</th>\n",
       "      <th>903</th>\n",
       "      <th>904</th>\n",
       "      <th>905</th>\n",
       "      <th>906</th>\n",
       "      <th>907</th>\n",
       "      <th>908</th>\n",
       "      <th>909</th>\n",
       "      <th>910</th>\n",
       "      <th>911</th>\n",
       "      <th>912</th>\n",
       "      <th>913</th>\n",
       "      <th>914</th>\n",
       "      <th>915</th>\n",
       "    </tr>\n",
       "  </thead>\n",
       "  <tbody>\n",
       "    <tr>\n",
       "      <th>0</th>\n",
       "      <td>-1.280041</td>\n",
       "      <td>1.238382</td>\n",
       "      <td>2.661622</td>\n",
       "      <td>-2.942723</td>\n",
       "      <td>0.256651</td>\n",
       "      <td>-0.847558</td>\n",
       "      <td>-0.144272</td>\n",
       "      <td>-3.628990</td>\n",
       "      <td>-0.317223</td>\n",
       "      <td>2.649822</td>\n",
       "      <td>5.004708</td>\n",
       "      <td>-4.185132</td>\n",
       "      <td>-0.319661</td>\n",
       "      <td>-0.403782</td>\n",
       "      <td>0.837098</td>\n",
       "      <td>0.674467</td>\n",
       "    </tr>\n",
       "    <tr>\n",
       "      <th>1</th>\n",
       "      <td>1.734251</td>\n",
       "      <td>3.321642</td>\n",
       "      <td>-1.756527</td>\n",
       "      <td>3.417488</td>\n",
       "      <td>-1.973764</td>\n",
       "      <td>-0.026902</td>\n",
       "      <td>2.733768</td>\n",
       "      <td>1.420462</td>\n",
       "      <td>0.212293</td>\n",
       "      <td>0.360131</td>\n",
       "      <td>1.912276</td>\n",
       "      <td>6.072646</td>\n",
       "      <td>-3.138425</td>\n",
       "      <td>-1.144073</td>\n",
       "      <td>-0.793034</td>\n",
       "      <td>-2.189273</td>\n",
       "    </tr>\n",
       "    <tr>\n",
       "      <th>2</th>\n",
       "      <td>-1.218798</td>\n",
       "      <td>-0.706921</td>\n",
       "      <td>-0.970352</td>\n",
       "      <td>1.446063</td>\n",
       "      <td>1.069938</td>\n",
       "      <td>4.533852</td>\n",
       "      <td>2.815861</td>\n",
       "      <td>-0.491769</td>\n",
       "      <td>-0.232733</td>\n",
       "      <td>1.098961</td>\n",
       "      <td>-0.329036</td>\n",
       "      <td>2.557483</td>\n",
       "      <td>-1.199582</td>\n",
       "      <td>0.998466</td>\n",
       "      <td>-1.331319</td>\n",
       "      <td>1.782689</td>\n",
       "    </tr>\n",
       "    <tr>\n",
       "      <th>3</th>\n",
       "      <td>-2.192398</td>\n",
       "      <td>-1.735968</td>\n",
       "      <td>2.031139</td>\n",
       "      <td>0.725424</td>\n",
       "      <td>-0.305053</td>\n",
       "      <td>-1.314722</td>\n",
       "      <td>-1.477061</td>\n",
       "      <td>3.391574</td>\n",
       "      <td>3.039285</td>\n",
       "      <td>-0.780832</td>\n",
       "      <td>0.132886</td>\n",
       "      <td>2.852817</td>\n",
       "      <td>4.059947</td>\n",
       "      <td>-0.462990</td>\n",
       "      <td>3.677201</td>\n",
       "      <td>-4.173188</td>\n",
       "    </tr>\n",
       "    <tr>\n",
       "      <th>4</th>\n",
       "      <td>-0.691028</td>\n",
       "      <td>-4.928038</td>\n",
       "      <td>-2.162437</td>\n",
       "      <td>1.651693</td>\n",
       "      <td>0.314290</td>\n",
       "      <td>2.053126</td>\n",
       "      <td>6.163571</td>\n",
       "      <td>1.326052</td>\n",
       "      <td>-2.152279</td>\n",
       "      <td>3.103169</td>\n",
       "      <td>-1.078835</td>\n",
       "      <td>-0.374443</td>\n",
       "      <td>1.339320</td>\n",
       "      <td>-0.335326</td>\n",
       "      <td>0.810662</td>\n",
       "      <td>-0.089223</td>\n",
       "    </tr>\n",
       "  </tbody>\n",
       "</table>\n",
       "</div>"
      ],
      "text/plain": [
       "        900       901       902       903       904       905       906  \\\n",
       "0 -1.280041  1.238382  2.661622 -2.942723  0.256651 -0.847558 -0.144272   \n",
       "1  1.734251  3.321642 -1.756527  3.417488 -1.973764 -0.026902  2.733768   \n",
       "2 -1.218798 -0.706921 -0.970352  1.446063  1.069938  4.533852  2.815861   \n",
       "3 -2.192398 -1.735968  2.031139  0.725424 -0.305053 -1.314722 -1.477061   \n",
       "4 -0.691028 -4.928038 -2.162437  1.651693  0.314290  2.053126  6.163571   \n",
       "\n",
       "        907       908       909       910       911       912       913  \\\n",
       "0 -3.628990 -0.317223  2.649822  5.004708 -4.185132 -0.319661 -0.403782   \n",
       "1  1.420462  0.212293  0.360131  1.912276  6.072646 -3.138425 -1.144073   \n",
       "2 -0.491769 -0.232733  1.098961 -0.329036  2.557483 -1.199582  0.998466   \n",
       "3  3.391574  3.039285 -0.780832  0.132886  2.852817  4.059947 -0.462990   \n",
       "4  1.326052 -2.152279  3.103169 -1.078835 -0.374443  1.339320 -0.335326   \n",
       "\n",
       "        914       915  \n",
       "0  0.837098  0.674467  \n",
       "1 -0.793034 -2.189273  \n",
       "2 -1.331319  1.782689  \n",
       "3  3.677201 -4.173188  \n",
       "4  0.810662 -0.089223  "
      ]
     },
     "execution_count": 204,
     "metadata": {},
     "output_type": "execute_result"
    }
   ],
   "source": [
    "X_train_normal_dist.head(5)"
   ]
  },
  {
   "cell_type": "code",
   "execution_count": 205,
   "metadata": {},
   "outputs": [
    {
     "name": "stdout",
     "output_type": "stream",
     "text": [
      "<class 'pandas.core.frame.DataFrame'>\n",
      "RangeIndex: 62210 entries, 0 to 62209\n",
      "Data columns (total 16 columns):\n",
      " #   Column  Non-Null Count  Dtype  \n",
      "---  ------  --------------  -----  \n",
      " 0   900     62210 non-null  float64\n",
      " 1   901     62210 non-null  float64\n",
      " 2   902     62210 non-null  float64\n",
      " 3   903     62210 non-null  float64\n",
      " 4   904     62210 non-null  float64\n",
      " 5   905     62210 non-null  float64\n",
      " 6   906     62210 non-null  float64\n",
      " 7   907     62210 non-null  float64\n",
      " 8   908     62210 non-null  float64\n",
      " 9   909     62210 non-null  float64\n",
      " 10  910     62210 non-null  float64\n",
      " 11  911     62210 non-null  float64\n",
      " 12  912     62210 non-null  float64\n",
      " 13  913     62210 non-null  float64\n",
      " 14  914     62210 non-null  float64\n",
      " 15  915     62210 non-null  float64\n",
      "dtypes: float64(16)\n",
      "memory usage: 7.6 MB\n"
     ]
    }
   ],
   "source": [
    "X_train_normal_dist.info()"
   ]
  },
  {
   "cell_type": "markdown",
   "metadata": {},
   "source": [
    "### C. Colour histogram"
   ]
  },
  {
   "cell_type": "code",
   "execution_count": 206,
   "metadata": {},
   "outputs": [
    {
     "data": {
      "text/html": [
       "<div>\n",
       "<style scoped>\n",
       "    .dataframe tbody tr th:only-of-type {\n",
       "        vertical-align: middle;\n",
       "    }\n",
       "\n",
       "    .dataframe tbody tr th {\n",
       "        vertical-align: top;\n",
       "    }\n",
       "\n",
       "    .dataframe thead th {\n",
       "        text-align: right;\n",
       "    }\n",
       "</style>\n",
       "<table border=\"1\" class=\"dataframe\">\n",
       "  <thead>\n",
       "    <tr style=\"text-align: right;\">\n",
       "      <th></th>\n",
       "      <th>916</th>\n",
       "      <th>917</th>\n",
       "      <th>918</th>\n",
       "      <th>919</th>\n",
       "      <th>920</th>\n",
       "      <th>921</th>\n",
       "      <th>922</th>\n",
       "      <th>923</th>\n",
       "      <th>924</th>\n",
       "      <th>925</th>\n",
       "      <th>...</th>\n",
       "      <th>954</th>\n",
       "      <th>955</th>\n",
       "      <th>956</th>\n",
       "      <th>957</th>\n",
       "      <th>958</th>\n",
       "      <th>959</th>\n",
       "      <th>960</th>\n",
       "      <th>961</th>\n",
       "      <th>962</th>\n",
       "      <th>963</th>\n",
       "    </tr>\n",
       "  </thead>\n",
       "  <tbody>\n",
       "    <tr>\n",
       "      <th>0</th>\n",
       "      <td>570.0</td>\n",
       "      <td>957.0</td>\n",
       "      <td>448.0</td>\n",
       "      <td>214.0</td>\n",
       "      <td>179.0</td>\n",
       "      <td>227.0</td>\n",
       "      <td>243.0</td>\n",
       "      <td>197.0</td>\n",
       "      <td>152.0</td>\n",
       "      <td>95.0</td>\n",
       "      <td>...</td>\n",
       "      <td>129.0</td>\n",
       "      <td>160.0</td>\n",
       "      <td>264.0</td>\n",
       "      <td>233.0</td>\n",
       "      <td>144.0</td>\n",
       "      <td>121.0</td>\n",
       "      <td>117.0</td>\n",
       "      <td>80.0</td>\n",
       "      <td>35.0</td>\n",
       "      <td>23.0</td>\n",
       "    </tr>\n",
       "    <tr>\n",
       "      <th>1</th>\n",
       "      <td>26.0</td>\n",
       "      <td>99.0</td>\n",
       "      <td>263.0</td>\n",
       "      <td>450.0</td>\n",
       "      <td>656.0</td>\n",
       "      <td>552.0</td>\n",
       "      <td>525.0</td>\n",
       "      <td>349.0</td>\n",
       "      <td>252.0</td>\n",
       "      <td>186.0</td>\n",
       "      <td>...</td>\n",
       "      <td>338.0</td>\n",
       "      <td>277.0</td>\n",
       "      <td>199.0</td>\n",
       "      <td>122.0</td>\n",
       "      <td>94.0</td>\n",
       "      <td>26.0</td>\n",
       "      <td>11.0</td>\n",
       "      <td>8.0</td>\n",
       "      <td>3.0</td>\n",
       "      <td>1.0</td>\n",
       "    </tr>\n",
       "    <tr>\n",
       "      <th>2</th>\n",
       "      <td>9.0</td>\n",
       "      <td>42.0</td>\n",
       "      <td>143.0</td>\n",
       "      <td>324.0</td>\n",
       "      <td>668.0</td>\n",
       "      <td>494.0</td>\n",
       "      <td>447.0</td>\n",
       "      <td>407.0</td>\n",
       "      <td>368.0</td>\n",
       "      <td>344.0</td>\n",
       "      <td>...</td>\n",
       "      <td>440.0</td>\n",
       "      <td>351.0</td>\n",
       "      <td>218.0</td>\n",
       "      <td>124.0</td>\n",
       "      <td>63.0</td>\n",
       "      <td>21.0</td>\n",
       "      <td>9.0</td>\n",
       "      <td>7.0</td>\n",
       "      <td>6.0</td>\n",
       "      <td>3.0</td>\n",
       "    </tr>\n",
       "    <tr>\n",
       "      <th>3</th>\n",
       "      <td>11.0</td>\n",
       "      <td>83.0</td>\n",
       "      <td>104.0</td>\n",
       "      <td>486.0</td>\n",
       "      <td>1003.0</td>\n",
       "      <td>545.0</td>\n",
       "      <td>724.0</td>\n",
       "      <td>191.0</td>\n",
       "      <td>199.0</td>\n",
       "      <td>88.0</td>\n",
       "      <td>...</td>\n",
       "      <td>871.0</td>\n",
       "      <td>427.0</td>\n",
       "      <td>578.0</td>\n",
       "      <td>292.0</td>\n",
       "      <td>75.0</td>\n",
       "      <td>102.0</td>\n",
       "      <td>81.0</td>\n",
       "      <td>30.0</td>\n",
       "      <td>33.0</td>\n",
       "      <td>10.0</td>\n",
       "    </tr>\n",
       "    <tr>\n",
       "      <th>4</th>\n",
       "      <td>4.0</td>\n",
       "      <td>37.0</td>\n",
       "      <td>69.0</td>\n",
       "      <td>112.0</td>\n",
       "      <td>159.0</td>\n",
       "      <td>101.0</td>\n",
       "      <td>145.0</td>\n",
       "      <td>187.0</td>\n",
       "      <td>707.0</td>\n",
       "      <td>1299.0</td>\n",
       "      <td>...</td>\n",
       "      <td>166.0</td>\n",
       "      <td>285.0</td>\n",
       "      <td>605.0</td>\n",
       "      <td>1011.0</td>\n",
       "      <td>822.0</td>\n",
       "      <td>192.0</td>\n",
       "      <td>39.0</td>\n",
       "      <td>14.0</td>\n",
       "      <td>8.0</td>\n",
       "      <td>5.0</td>\n",
       "    </tr>\n",
       "  </tbody>\n",
       "</table>\n",
       "<p>5 rows × 48 columns</p>\n",
       "</div>"
      ],
      "text/plain": [
       "     916    917    918    919     920    921    922    923    924     925  \\\n",
       "0  570.0  957.0  448.0  214.0   179.0  227.0  243.0  197.0  152.0    95.0   \n",
       "1   26.0   99.0  263.0  450.0   656.0  552.0  525.0  349.0  252.0   186.0   \n",
       "2    9.0   42.0  143.0  324.0   668.0  494.0  447.0  407.0  368.0   344.0   \n",
       "3   11.0   83.0  104.0  486.0  1003.0  545.0  724.0  191.0  199.0    88.0   \n",
       "4    4.0   37.0   69.0  112.0   159.0  101.0  145.0  187.0  707.0  1299.0   \n",
       "\n",
       "   ...    954    955    956     957    958    959    960   961   962   963  \n",
       "0  ...  129.0  160.0  264.0   233.0  144.0  121.0  117.0  80.0  35.0  23.0  \n",
       "1  ...  338.0  277.0  199.0   122.0   94.0   26.0   11.0   8.0   3.0   1.0  \n",
       "2  ...  440.0  351.0  218.0   124.0   63.0   21.0    9.0   7.0   6.0   3.0  \n",
       "3  ...  871.0  427.0  578.0   292.0   75.0  102.0   81.0  30.0  33.0  10.0  \n",
       "4  ...  166.0  285.0  605.0  1011.0  822.0  192.0   39.0  14.0   8.0   5.0  \n",
       "\n",
       "[5 rows x 48 columns]"
      ]
     },
     "execution_count": 206,
     "metadata": {},
     "output_type": "execute_result"
    }
   ],
   "source": [
    "X_train_colour_hists.head(5)"
   ]
  },
  {
   "cell_type": "code",
   "execution_count": 207,
   "metadata": {},
   "outputs": [
    {
     "name": "stdout",
     "output_type": "stream",
     "text": [
      "<class 'pandas.core.frame.DataFrame'>\n",
      "RangeIndex: 62210 entries, 0 to 62209\n",
      "Data columns (total 48 columns):\n",
      " #   Column  Non-Null Count  Dtype  \n",
      "---  ------  --------------  -----  \n",
      " 0   916     62210 non-null  float64\n",
      " 1   917     62210 non-null  float64\n",
      " 2   918     62210 non-null  float64\n",
      " 3   919     62210 non-null  float64\n",
      " 4   920     62210 non-null  float64\n",
      " 5   921     62210 non-null  float64\n",
      " 6   922     62210 non-null  float64\n",
      " 7   923     62210 non-null  float64\n",
      " 8   924     62210 non-null  float64\n",
      " 9   925     62210 non-null  float64\n",
      " 10  926     62210 non-null  float64\n",
      " 11  927     62210 non-null  float64\n",
      " 12  928     62210 non-null  float64\n",
      " 13  929     62210 non-null  float64\n",
      " 14  930     62210 non-null  float64\n",
      " 15  931     62210 non-null  float64\n",
      " 16  932     62210 non-null  float64\n",
      " 17  933     62210 non-null  float64\n",
      " 18  934     62210 non-null  float64\n",
      " 19  935     62210 non-null  float64\n",
      " 20  936     62210 non-null  float64\n",
      " 21  937     62210 non-null  float64\n",
      " 22  938     62210 non-null  float64\n",
      " 23  939     62210 non-null  float64\n",
      " 24  940     62210 non-null  float64\n",
      " 25  941     62210 non-null  float64\n",
      " 26  942     62210 non-null  float64\n",
      " 27  943     62210 non-null  float64\n",
      " 28  944     62210 non-null  float64\n",
      " 29  945     62210 non-null  float64\n",
      " 30  946     62210 non-null  float64\n",
      " 31  947     62210 non-null  float64\n",
      " 32  948     62210 non-null  float64\n",
      " 33  949     62210 non-null  float64\n",
      " 34  950     62210 non-null  float64\n",
      " 35  951     62210 non-null  float64\n",
      " 36  952     62210 non-null  float64\n",
      " 37  953     62210 non-null  float64\n",
      " 38  954     62210 non-null  float64\n",
      " 39  955     62210 non-null  float64\n",
      " 40  956     62210 non-null  float64\n",
      " 41  957     62210 non-null  float64\n",
      " 42  958     62210 non-null  float64\n",
      " 43  959     62210 non-null  float64\n",
      " 44  960     62210 non-null  float64\n",
      " 45  961     62210 non-null  float64\n",
      " 46  962     62210 non-null  float64\n",
      " 47  963     62210 non-null  float64\n",
      "dtypes: float64(48)\n",
      "memory usage: 22.8 MB\n"
     ]
    }
   ],
   "source": [
    "X_train_colour_hists.info()"
   ]
  },
  {
   "cell_type": "markdown",
   "metadata": {},
   "source": [
    "### D. Class ID"
   ]
  },
  {
   "cell_type": "code",
   "execution_count": 288,
   "metadata": {},
   "outputs": [
    {
     "name": "stdout",
     "output_type": "stream",
     "text": [
      "<class 'pandas.core.frame.DataFrame'>\n",
      "Int64Index: 49768 entries, 5149 to 12116\n",
      "Data columns (total 1 columns):\n",
      " #   Column  Non-Null Count  Dtype \n",
      "---  ------  --------------  ----- \n",
      " 0   0       49768 non-null  object\n",
      "dtypes: object(1)\n",
      "memory usage: 777.6+ KB\n"
     ]
    }
   ],
   "source": [
    "y_train.info()"
   ]
  },
  {
   "cell_type": "markdown",
   "metadata": {},
   "source": [
    "Count the occurences (and relative % distribution) of each class in the training set."
   ]
  },
  {
   "cell_type": "code",
   "execution_count": 230,
   "metadata": {},
   "outputs": [
    {
     "data": {
      "text/plain": [
       "{'seal': {'occurences': 7778, 'distribution': 0.12503},\n",
       " 'background': {'occurences': 54432, 'distribution': 0.87497}}"
      ]
     },
     "execution_count": 230,
     "metadata": {},
     "output_type": "execute_result"
    }
   ],
   "source": [
    "total_occurences = y_train_load.shape[0]\n",
    "class_distribution = {\n",
    "    'seal': {\n",
    "        'occurences': y_train_load[0].value_counts()[\"seal\"],\n",
    "        'distribution': round(y_train_load[0].value_counts()[\"seal\"] / total_occurences, 5)\n",
    "    },\n",
    "    'background': {\n",
    "        'occurences': y_train_load[0].value_counts()[\"background\"],\n",
    "        'distribution': round(y_train_load[0].value_counts()[\"background\"] / total_occurences, 5)\n",
    "    }\n",
    "}\n",
    "class_distribution"
   ]
  },
  {
   "cell_type": "markdown",
   "metadata": {},
   "source": [
    "Plot the distribution of classes in the training set in a bar chart."
   ]
  },
  {
   "cell_type": "code",
   "execution_count": 291,
   "metadata": {},
   "outputs": [
    {
     "data": {
      "image/png": "[encoded data removed]",
      "text/plain": [
       "<Figure size 720x576 with 1 Axes>"
      ]
     },
     "metadata": {
      "needs_background": "light"
     },
     "output_type": "display_data"
    }
   ],
   "source": [
    "# Data preparation for bar chart.\n",
    "data = [class_distribution['seal']['occurences'], class_distribution['background']['occurences']]\n",
    "value_labels = [class_distribution['seal']['distribution'], class_distribution['background']['distribution']]\n",
    "x_axis_labels = [\"seal\", \"background\"]\n",
    "\n",
    "# Matplot lib bar chart.\n",
    "plt.figure(figsize=(10, 8))\n",
    "plt.xticks(range(len(data)), labels)\n",
    "plt.xlabel(\"Class\")\n",
    "plt.ylabel(\"Occurences\")\n",
    "plt.title(\"Binary dataset: Class frequency occurences & distribution\")\n",
    "plt.bar(labels, data)\n",
    "plt.grid(color='#95a5a6', linestyle='-', linewidth=1, axis='y', alpha=0.5)\n",
    "\n",
    "# Add value labels for each bar.\n",
    "for a,b in zip(labels, data):\n",
    "    plt.text(a, b, \"{}%\".format(str(round(class_distribution[a]['distribution'], 2))))\n",
    "    \n",
    "# Save and display chart.\n",
    "plt.savefig(\"binary_class_distribution.png\")\n",
    "plt.show()"
   ]
  },
  {
   "cell_type": "markdown",
   "metadata": {},
   "source": [
    "# Part 4: Prepare inputs"
   ]
  },
  {
   "cell_type": "markdown",
   "metadata": {},
   "source": [
    "### Split Train/Validation data sets"
   ]
  },
  {
   "cell_type": "markdown",
   "metadata": {},
   "source": [
    "The data is already split into training and testing sets. To avoid data snooping, the testing set is ignored until the evaluation section.\n",
    "\n",
    "However, the training set is further split between a training and a validation set to evaluate its performance during training.\n",
    "\n",
    "A randomised 80%/20% split is used rather than stratified sampling because the dataset is large enough. According to Hands-On ML, if the dataset is large enough, the risk of introducing sampling bias is low (he mentions a set of 1,000 rows, whereas ours has 62210 rows).\n",
    "\n",
    "The random number generator's seed is set at a fixed value to ensure that it always generates the same shuffle indices when re-running the code, ensuring reproducibility."
   ]
  },
  {
   "cell_type": "code",
   "execution_count": 198,
   "metadata": {},
   "outputs": [],
   "source": [
    "X_train, X_validate, y_train, y_validate = train_test_split(X_train_binary, y_train_binary, test_size=0.2, random_state=RANDOM_SEED)"
   ]
  },
  {
   "cell_type": "markdown",
   "metadata": {},
   "source": [
    "Confirm new training dataset sizes:"
   ]
  },
  {
   "cell_type": "code",
   "execution_count": 209,
   "metadata": {},
   "outputs": [
    {
     "name": "stdout",
     "output_type": "stream",
     "text": [
      "Training set split:\n",
      "Train set size = (49768, 964)\n",
      "Validation set size = (12442, 964)\n"
     ]
    }
   ],
   "source": [
    "print(\"Training set split:\\nTrain set size = {}\\nValidation set size = {}\".format(X_train.shape, X_validate.shape))"
   ]
  },
  {
   "cell_type": "markdown",
   "metadata": {},
   "source": [
    "### Data conversion"
   ]
  },
  {
   "cell_type": "markdown",
   "metadata": {},
   "source": [
    "Convert class ID output to boolean format for logistic regression (True if it's a \"seal\", False if it's a \"background\")."
   ]
  },
  {
   "cell_type": "code",
   "execution_count": 290,
   "metadata": {},
   "outputs": [],
   "source": [
    "y_train_seal = (y_train == \"seal\")"
   ]
  },
  {
   "cell_type": "markdown",
   "metadata": {},
   "source": [
    "# Parts 5/6: Select & train classification models"
   ]
  },
  {
   "cell_type": "code",
   "execution_count": null,
   "metadata": {},
   "outputs": [],
   "source": [
    "sgd_classifier = SGDClassifier(max_iter=1000, tol=1e-3, random_state=RANDOM_SEED)\n",
    "sgd_classifier.fit(X_train, y_train.values.ravel())\n",
    "# use values to get the values in an array, so a shape of (n,1) and then ravel() tothe convert that array shape to (n, )"
   ]
  },
  {
   "cell_type": "code",
   "execution_count": null,
   "metadata": {},
   "outputs": [],
   "source": [
    "y_prediction = sgd_classifier.predict(X_train)\n",
    "confusion_matrix(y_train, y_prediction)"
   ]
  },
  {
   "cell_type": "markdown",
   "metadata": {},
   "source": [
    "# Part 7: Evaluating & comparing models performance "
   ]
  },
  {
   "cell_type": "markdown",
   "metadata": {},
   "source": [
    "### Load testing data"
   ]
  },
  {
   "cell_type": "code",
   "execution_count": null,
   "metadata": {},
   "outputs": [],
   "source": [
    "X_test = pd.read_csv(\"../data/binary/X_test.csv\")"
   ]
  },
  {
   "cell_type": "markdown",
   "metadata": {},
   "source": [
    "# Part 8: Critical discussion of the results, approach and methods"
   ]
  },
  {
   "cell_type": "code",
   "execution_count": null,
   "metadata": {},
   "outputs": [],
   "source": []
  }
 ],
 "metadata": {
  "kernelspec": {
   "display_name": "Python 3",
   "language": "python",
   "name": "python3"
  },
  "language_info": {
   "codemirror_mode": {
    "name": "ipython",
    "version": 3
   },
   "file_extension": ".py",
   "mimetype": "text/x-python",
   "name": "python",
   "nbconvert_exporter": "python",
   "pygments_lexer": "ipython3",
   "version": "3.7.6"
  }
 },
 "nbformat": 4,
 "nbformat_minor": 4
}
