{
 "cells": [
  {
   "cell_type": "markdown",
   "metadata": {},
   "source": [
    "*Note: only the \"binary\" dataset is used in the  notebook, extension to the \"multi\" dataset is done after converting to a Python project.*"
   ]
  },
  {
   "cell_type": "markdown",
   "metadata": {},
   "source": [
    "# Part 1: Data Loading"
   ]
  },
  {
   "cell_type": "markdown",
   "metadata": {},
   "source": [
    "### Import libraries"
   ]
  },
  {
   "cell_type": "code",
   "execution_count": 479,
   "metadata": {},
   "outputs": [],
   "source": [
    "import joblib\n",
    "\n",
    "import matplotlib.pyplot as plt\n",
    "import numpy as np\n",
    "import pandas as pd\n",
    "import seaborn as sns\n",
    "from sklearn.linear_model import SGDClassifier\n",
    "from sklearn.metrics import confusion_matrix\n",
    "from sklearn.model_selection import train_test_split"
   ]
  },
  {
   "cell_type": "code",
   "execution_count": 480,
   "metadata": {},
   "outputs": [],
   "source": [
    "RANDOM_SEED = 111"
   ]
  },
  {
   "cell_type": "markdown",
   "metadata": {},
   "source": [
    "### Load training data"
   ]
  },
  {
   "cell_type": "code",
   "execution_count": 481,
   "metadata": {},
   "outputs": [
    {
     "name": "stdout",
     "output_type": "stream",
     "text": [
      "CPU times: user 10.7 s, sys: 779 ms, total: 11.4 s\n",
      "Wall time: 11.5 s\n"
     ]
    }
   ],
   "source": [
    "%%time\n",
    "X_train_binary = pd.read_csv(\"../data/binary/X_train.csv\", header=None)\n",
    "y_train_binary = pd.read_csv(\"../data/binary/Y_train.csv\", header=None)"
   ]
  },
  {
   "cell_type": "markdown",
   "metadata": {},
   "source": [
    "# Part 2: Data cleaning & create new input features"
   ]
  },
  {
   "cell_type": "code",
   "execution_count": 616,
   "metadata": {},
   "outputs": [],
   "source": [
    "#todo"
   ]
  },
  {
   "cell_type": "markdown",
   "metadata": {},
   "source": [
    "# Part 3. Data Visualisation & Analysis"
   ]
  },
  {
   "cell_type": "code",
   "execution_count": 483,
   "metadata": {},
   "outputs": [
    {
     "data": {
      "text/plain": [
       "(62210, 964)"
      ]
     },
     "execution_count": 483,
     "metadata": {},
     "output_type": "execute_result"
    }
   ],
   "source": [
    "X_train_binary.shape"
   ]
  },
  {
   "cell_type": "markdown",
   "metadata": {},
   "source": [
    "--> Training data summary:\n",
    "* There are 62,210 rows (images)\n",
    "* There are 964 columns (feature):\n",
    "    * first 900 columns = **HoG (Histogram of oriented Gradients)** extracted from the image (10×10 px cells, 9 orientations, 2×2 blocks).\n",
    "    * next 16 columns drawn from a **normal distribution** (µ = 0.5, σ = 2)\n",
    "    * last 48 columns correspond to 3 **colour histograms** extracted from the same image, one for each channel (RGB), with 16 bins per channel.\n",
    "\n",
    "They are split into 3 different sets for further analysis and visualisation"
   ]
  },
  {
   "cell_type": "code",
   "execution_count": 484,
   "metadata": {},
   "outputs": [],
   "source": [
    "X_train_HoG = X_train_binary.iloc[:, :900]\n",
    "X_train_normal_dist = X_train_binary.iloc[:, 900:916]\n",
    "X_train_colour_hists = X_train_binary.iloc[:, 916:]"
   ]
  },
  {
   "cell_type": "markdown",
   "metadata": {},
   "source": [
    "### A. HoG (Histogram of oriented Gradients)"
   ]
  },
  {
   "cell_type": "code",
   "execution_count": 485,
   "metadata": {},
   "outputs": [
    {
     "data": {
      "text/html": [
       "<div>\n",
       "<style scoped>\n",
       "    .dataframe tbody tr th:only-of-type {\n",
       "        vertical-align: middle;\n",
       "    }\n",
       "\n",
       "    .dataframe tbody tr th {\n",
       "        vertical-align: top;\n",
       "    }\n",
       "\n",
       "    .dataframe thead th {\n",
       "        text-align: right;\n",
       "    }\n",
       "</style>\n",
       "<table border=\"1\" class=\"dataframe\">\n",
       "  <thead>\n",
       "    <tr style=\"text-align: right;\">\n",
       "      <th></th>\n",
       "      <th>0</th>\n",
       "      <th>1</th>\n",
       "      <th>2</th>\n",
       "      <th>3</th>\n",
       "      <th>4</th>\n",
       "      <th>5</th>\n",
       "      <th>6</th>\n",
       "      <th>7</th>\n",
       "      <th>8</th>\n",
       "      <th>9</th>\n",
       "      <th>...</th>\n",
       "      <th>890</th>\n",
       "      <th>891</th>\n",
       "      <th>892</th>\n",
       "      <th>893</th>\n",
       "      <th>894</th>\n",
       "      <th>895</th>\n",
       "      <th>896</th>\n",
       "      <th>897</th>\n",
       "      <th>898</th>\n",
       "      <th>899</th>\n",
       "    </tr>\n",
       "  </thead>\n",
       "  <tbody>\n",
       "    <tr>\n",
       "      <th>0</th>\n",
       "      <td>0.108247</td>\n",
       "      <td>0.004364</td>\n",
       "      <td>0.006292</td>\n",
       "      <td>0.012344</td>\n",
       "      <td>0.125419</td>\n",
       "      <td>0.211368</td>\n",
       "      <td>0.308308</td>\n",
       "      <td>0.308308</td>\n",
       "      <td>0.047714</td>\n",
       "      <td>0.147246</td>\n",
       "      <td>...</td>\n",
       "      <td>0.086864</td>\n",
       "      <td>0.231606</td>\n",
       "      <td>0.010222</td>\n",
       "      <td>0.111093</td>\n",
       "      <td>0.036183</td>\n",
       "      <td>0.151264</td>\n",
       "      <td>0.166743</td>\n",
       "      <td>0.216403</td>\n",
       "      <td>0.231606</td>\n",
       "      <td>0.072554</td>\n",
       "    </tr>\n",
       "    <tr>\n",
       "      <th>1</th>\n",
       "      <td>0.245888</td>\n",
       "      <td>0.057265</td>\n",
       "      <td>0.054288</td>\n",
       "      <td>0.073985</td>\n",
       "      <td>0.245888</td>\n",
       "      <td>0.143398</td>\n",
       "      <td>0.113087</td>\n",
       "      <td>0.208721</td>\n",
       "      <td>0.173131</td>\n",
       "      <td>0.245888</td>\n",
       "      <td>...</td>\n",
       "      <td>0.018032</td>\n",
       "      <td>0.204783</td>\n",
       "      <td>0.059727</td>\n",
       "      <td>0.248219</td>\n",
       "      <td>0.248219</td>\n",
       "      <td>0.248219</td>\n",
       "      <td>0.121050</td>\n",
       "      <td>0.067763</td>\n",
       "      <td>0.037096</td>\n",
       "      <td>0.025164</td>\n",
       "    </tr>\n",
       "    <tr>\n",
       "      <th>2</th>\n",
       "      <td>0.218803</td>\n",
       "      <td>0.107196</td>\n",
       "      <td>0.056075</td>\n",
       "      <td>0.108894</td>\n",
       "      <td>0.143207</td>\n",
       "      <td>0.079305</td>\n",
       "      <td>0.068837</td>\n",
       "      <td>0.147177</td>\n",
       "      <td>0.089514</td>\n",
       "      <td>0.166596</td>\n",
       "      <td>...</td>\n",
       "      <td>0.232862</td>\n",
       "      <td>0.232918</td>\n",
       "      <td>0.048630</td>\n",
       "      <td>0.105441</td>\n",
       "      <td>0.028698</td>\n",
       "      <td>0.191464</td>\n",
       "      <td>0.218813</td>\n",
       "      <td>0.232918</td>\n",
       "      <td>0.232918</td>\n",
       "      <td>0.092948</td>\n",
       "    </tr>\n",
       "    <tr>\n",
       "      <th>3</th>\n",
       "      <td>0.199052</td>\n",
       "      <td>0.099943</td>\n",
       "      <td>0.109036</td>\n",
       "      <td>0.095986</td>\n",
       "      <td>0.218288</td>\n",
       "      <td>0.205510</td>\n",
       "      <td>0.218288</td>\n",
       "      <td>0.113477</td>\n",
       "      <td>0.128925</td>\n",
       "      <td>0.218288</td>\n",
       "      <td>...</td>\n",
       "      <td>0.161302</td>\n",
       "      <td>0.234259</td>\n",
       "      <td>0.134242</td>\n",
       "      <td>0.185844</td>\n",
       "      <td>0.164967</td>\n",
       "      <td>0.234259</td>\n",
       "      <td>0.064108</td>\n",
       "      <td>0.043844</td>\n",
       "      <td>0.234259</td>\n",
       "      <td>0.119083</td>\n",
       "    </tr>\n",
       "    <tr>\n",
       "      <th>4</th>\n",
       "      <td>0.234368</td>\n",
       "      <td>0.163826</td>\n",
       "      <td>0.135215</td>\n",
       "      <td>0.234368</td>\n",
       "      <td>0.219650</td>\n",
       "      <td>0.100049</td>\n",
       "      <td>0.056125</td>\n",
       "      <td>0.065694</td>\n",
       "      <td>0.148874</td>\n",
       "      <td>0.234368</td>\n",
       "      <td>...</td>\n",
       "      <td>0.243317</td>\n",
       "      <td>0.243317</td>\n",
       "      <td>0.047693</td>\n",
       "      <td>0.084939</td>\n",
       "      <td>0.123729</td>\n",
       "      <td>0.113036</td>\n",
       "      <td>0.243317</td>\n",
       "      <td>0.194783</td>\n",
       "      <td>0.243317</td>\n",
       "      <td>0.136803</td>\n",
       "    </tr>\n",
       "  </tbody>\n",
       "</table>\n",
       "<p>5 rows × 900 columns</p>\n",
       "</div>"
      ],
      "text/plain": [
       "        0         1         2         3         4         5         6    \\\n",
       "0  0.108247  0.004364  0.006292  0.012344  0.125419  0.211368  0.308308   \n",
       "1  0.245888  0.057265  0.054288  0.073985  0.245888  0.143398  0.113087   \n",
       "2  0.218803  0.107196  0.056075  0.108894  0.143207  0.079305  0.068837   \n",
       "3  0.199052  0.099943  0.109036  0.095986  0.218288  0.205510  0.218288   \n",
       "4  0.234368  0.163826  0.135215  0.234368  0.219650  0.100049  0.056125   \n",
       "\n",
       "        7         8         9    ...       890       891       892       893  \\\n",
       "0  0.308308  0.047714  0.147246  ...  0.086864  0.231606  0.010222  0.111093   \n",
       "1  0.208721  0.173131  0.245888  ...  0.018032  0.204783  0.059727  0.248219   \n",
       "2  0.147177  0.089514  0.166596  ...  0.232862  0.232918  0.048630  0.105441   \n",
       "3  0.113477  0.128925  0.218288  ...  0.161302  0.234259  0.134242  0.185844   \n",
       "4  0.065694  0.148874  0.234368  ...  0.243317  0.243317  0.047693  0.084939   \n",
       "\n",
       "        894       895       896       897       898       899  \n",
       "0  0.036183  0.151264  0.166743  0.216403  0.231606  0.072554  \n",
       "1  0.248219  0.248219  0.121050  0.067763  0.037096  0.025164  \n",
       "2  0.028698  0.191464  0.218813  0.232918  0.232918  0.092948  \n",
       "3  0.164967  0.234259  0.064108  0.043844  0.234259  0.119083  \n",
       "4  0.123729  0.113036  0.243317  0.194783  0.243317  0.136803  \n",
       "\n",
       "[5 rows x 900 columns]"
      ]
     },
     "execution_count": 485,
     "metadata": {},
     "output_type": "execute_result"
    }
   ],
   "source": [
    "X_train_HoG.head(5)"
   ]
  },
  {
   "cell_type": "code",
   "execution_count": 486,
   "metadata": {},
   "outputs": [
    {
     "name": "stdout",
     "output_type": "stream",
     "text": [
      "<class 'pandas.core.frame.DataFrame'>\n",
      "RangeIndex: 62210 entries, 0 to 62209\n",
      "Columns: 900 entries, 0 to 899\n",
      "dtypes: float64(900)\n",
      "memory usage: 427.2 MB\n"
     ]
    }
   ],
   "source": [
    "X_train_HoG.info()"
   ]
  },
  {
   "cell_type": "markdown",
   "metadata": {},
   "source": [
    "Visualise a reconstruction of the image from the HoG."
   ]
  },
  {
   "cell_type": "code",
   "execution_count": 648,
   "metadata": {},
   "outputs": [
    {
     "data": {
      "image/png": "[encoded data removed]",
      "text/plain": [
       "<Figure size 720x720 with 4 Axes>"
      ]
     },
     "metadata": {
      "needs_background": "light"
     },
     "output_type": "display_data"
    }
   ],
   "source": [
    "fig=plt.figure(figsize=(10, 10))\n",
    "\n",
    "image_background1 = X_train_HoG.iloc[0].to_numpy().reshape(30, 30)\n",
    "fig.add_subplot(221)\n",
    "plt.imshow(image_background1, cmap=\"binary\")\n",
    "plt.title(\"label: background\")\n",
    "plt.axis(\"off\")\n",
    "\n",
    "image_background2 = X_train_HoG.iloc[1080].to_numpy().reshape(30, 30)\n",
    "fig.add_subplot(222)\n",
    "plt.imshow(image_background2, cmap=\"binary\")\n",
    "plt.title(\"label: background\")\n",
    "plt.axis(\"off\")\n",
    "\n",
    "image_seal1 = X_train_HoG.iloc[62209].to_numpy().reshape(30, 30)\n",
    "fig.add_subplot(223)\n",
    "plt.imshow(image_seal1, cmap=\"binary\")\n",
    "plt.title(\"label: seal\")\n",
    "plt.axis(\"off\")\n",
    "\n",
    "image_seal2= X_train_HoG.iloc[62100].to_numpy().reshape(30, 30)\n",
    "fig.add_subplot(224)\n",
    "plt.imshow(image_seal2, cmap=\"Blues\")\n",
    "plt.title(\"label: seal\")\n",
    "plt.axis(\"off\")\n",
    "\n",
    "plt.savefig(\"reconstructed_images_binary.png\")\n",
    "plt.show()"
   ]
  },
  {
   "cell_type": "markdown",
   "metadata": {},
   "source": [
    "Observation:\n",
    "* There is little difference between a background and a seal\n",
    "\n",
    "--> Reconstructed image doesn't give any information useful for classification.    "
   ]
  },
  {
   "cell_type": "markdown",
   "metadata": {},
   "source": [
    "### B. Normal distribution"
   ]
  },
  {
   "cell_type": "code",
   "execution_count": 487,
   "metadata": {},
   "outputs": [
    {
     "data": {
      "text/html": [
       "<div>\n",
       "<style scoped>\n",
       "    .dataframe tbody tr th:only-of-type {\n",
       "        vertical-align: middle;\n",
       "    }\n",
       "\n",
       "    .dataframe tbody tr th {\n",
       "        vertical-align: top;\n",
       "    }\n",
       "\n",
       "    .dataframe thead th {\n",
       "        text-align: right;\n",
       "    }\n",
       "</style>\n",
       "<table border=\"1\" class=\"dataframe\">\n",
       "  <thead>\n",
       "    <tr style=\"text-align: right;\">\n",
       "      <th></th>\n",
       "      <th>900</th>\n",
       "      <th>901</th>\n",
       "      <th>902</th>\n",
       "      <th>903</th>\n",
       "      <th>904</th>\n",
       "      <th>905</th>\n",
       "      <th>906</th>\n",
       "      <th>907</th>\n",
       "      <th>908</th>\n",
       "      <th>909</th>\n",
       "      <th>910</th>\n",
       "      <th>911</th>\n",
       "      <th>912</th>\n",
       "      <th>913</th>\n",
       "      <th>914</th>\n",
       "      <th>915</th>\n",
       "    </tr>\n",
       "  </thead>\n",
       "  <tbody>\n",
       "    <tr>\n",
       "      <th>0</th>\n",
       "      <td>-1.280041</td>\n",
       "      <td>1.238382</td>\n",
       "      <td>2.661622</td>\n",
       "      <td>-2.942723</td>\n",
       "      <td>0.256651</td>\n",
       "      <td>-0.847558</td>\n",
       "      <td>-0.144272</td>\n",
       "      <td>-3.628990</td>\n",
       "      <td>-0.317223</td>\n",
       "      <td>2.649822</td>\n",
       "      <td>5.004708</td>\n",
       "      <td>-4.185132</td>\n",
       "      <td>-0.319661</td>\n",
       "      <td>-0.403782</td>\n",
       "      <td>0.837098</td>\n",
       "      <td>0.674467</td>\n",
       "    </tr>\n",
       "    <tr>\n",
       "      <th>1</th>\n",
       "      <td>1.734251</td>\n",
       "      <td>3.321642</td>\n",
       "      <td>-1.756527</td>\n",
       "      <td>3.417488</td>\n",
       "      <td>-1.973764</td>\n",
       "      <td>-0.026902</td>\n",
       "      <td>2.733768</td>\n",
       "      <td>1.420462</td>\n",
       "      <td>0.212293</td>\n",
       "      <td>0.360131</td>\n",
       "      <td>1.912276</td>\n",
       "      <td>6.072646</td>\n",
       "      <td>-3.138425</td>\n",
       "      <td>-1.144073</td>\n",
       "      <td>-0.793034</td>\n",
       "      <td>-2.189273</td>\n",
       "    </tr>\n",
       "    <tr>\n",
       "      <th>2</th>\n",
       "      <td>-1.218798</td>\n",
       "      <td>-0.706921</td>\n",
       "      <td>-0.970352</td>\n",
       "      <td>1.446063</td>\n",
       "      <td>1.069938</td>\n",
       "      <td>4.533852</td>\n",
       "      <td>2.815861</td>\n",
       "      <td>-0.491769</td>\n",
       "      <td>-0.232733</td>\n",
       "      <td>1.098961</td>\n",
       "      <td>-0.329036</td>\n",
       "      <td>2.557483</td>\n",
       "      <td>-1.199582</td>\n",
       "      <td>0.998466</td>\n",
       "      <td>-1.331319</td>\n",
       "      <td>1.782689</td>\n",
       "    </tr>\n",
       "    <tr>\n",
       "      <th>3</th>\n",
       "      <td>-2.192398</td>\n",
       "      <td>-1.735968</td>\n",
       "      <td>2.031139</td>\n",
       "      <td>0.725424</td>\n",
       "      <td>-0.305053</td>\n",
       "      <td>-1.314722</td>\n",
       "      <td>-1.477061</td>\n",
       "      <td>3.391574</td>\n",
       "      <td>3.039285</td>\n",
       "      <td>-0.780832</td>\n",
       "      <td>0.132886</td>\n",
       "      <td>2.852817</td>\n",
       "      <td>4.059947</td>\n",
       "      <td>-0.462990</td>\n",
       "      <td>3.677201</td>\n",
       "      <td>-4.173188</td>\n",
       "    </tr>\n",
       "    <tr>\n",
       "      <th>4</th>\n",
       "      <td>-0.691028</td>\n",
       "      <td>-4.928038</td>\n",
       "      <td>-2.162437</td>\n",
       "      <td>1.651693</td>\n",
       "      <td>0.314290</td>\n",
       "      <td>2.053126</td>\n",
       "      <td>6.163571</td>\n",
       "      <td>1.326052</td>\n",
       "      <td>-2.152279</td>\n",
       "      <td>3.103169</td>\n",
       "      <td>-1.078835</td>\n",
       "      <td>-0.374443</td>\n",
       "      <td>1.339320</td>\n",
       "      <td>-0.335326</td>\n",
       "      <td>0.810662</td>\n",
       "      <td>-0.089223</td>\n",
       "    </tr>\n",
       "  </tbody>\n",
       "</table>\n",
       "</div>"
      ],
      "text/plain": [
       "        900       901       902       903       904       905       906  \\\n",
       "0 -1.280041  1.238382  2.661622 -2.942723  0.256651 -0.847558 -0.144272   \n",
       "1  1.734251  3.321642 -1.756527  3.417488 -1.973764 -0.026902  2.733768   \n",
       "2 -1.218798 -0.706921 -0.970352  1.446063  1.069938  4.533852  2.815861   \n",
       "3 -2.192398 -1.735968  2.031139  0.725424 -0.305053 -1.314722 -1.477061   \n",
       "4 -0.691028 -4.928038 -2.162437  1.651693  0.314290  2.053126  6.163571   \n",
       "\n",
       "        907       908       909       910       911       912       913  \\\n",
       "0 -3.628990 -0.317223  2.649822  5.004708 -4.185132 -0.319661 -0.403782   \n",
       "1  1.420462  0.212293  0.360131  1.912276  6.072646 -3.138425 -1.144073   \n",
       "2 -0.491769 -0.232733  1.098961 -0.329036  2.557483 -1.199582  0.998466   \n",
       "3  3.391574  3.039285 -0.780832  0.132886  2.852817  4.059947 -0.462990   \n",
       "4  1.326052 -2.152279  3.103169 -1.078835 -0.374443  1.339320 -0.335326   \n",
       "\n",
       "        914       915  \n",
       "0  0.837098  0.674467  \n",
       "1 -0.793034 -2.189273  \n",
       "2 -1.331319  1.782689  \n",
       "3  3.677201 -4.173188  \n",
       "4  0.810662 -0.089223  "
      ]
     },
     "execution_count": 487,
     "metadata": {},
     "output_type": "execute_result"
    }
   ],
   "source": [
    "X_train_normal_dist.head(5)"
   ]
  },
  {
   "cell_type": "code",
   "execution_count": 488,
   "metadata": {},
   "outputs": [
    {
     "name": "stdout",
     "output_type": "stream",
     "text": [
      "<class 'pandas.core.frame.DataFrame'>\n",
      "RangeIndex: 62210 entries, 0 to 62209\n",
      "Data columns (total 16 columns):\n",
      " #   Column  Non-Null Count  Dtype  \n",
      "---  ------  --------------  -----  \n",
      " 0   900     62210 non-null  float64\n",
      " 1   901     62210 non-null  float64\n",
      " 2   902     62210 non-null  float64\n",
      " 3   903     62210 non-null  float64\n",
      " 4   904     62210 non-null  float64\n",
      " 5   905     62210 non-null  float64\n",
      " 6   906     62210 non-null  float64\n",
      " 7   907     62210 non-null  float64\n",
      " 8   908     62210 non-null  float64\n",
      " 9   909     62210 non-null  float64\n",
      " 10  910     62210 non-null  float64\n",
      " 11  911     62210 non-null  float64\n",
      " 12  912     62210 non-null  float64\n",
      " 13  913     62210 non-null  float64\n",
      " 14  914     62210 non-null  float64\n",
      " 15  915     62210 non-null  float64\n",
      "dtypes: float64(16)\n",
      "memory usage: 7.6 MB\n"
     ]
    }
   ],
   "source": [
    "X_train_normal_dist.info()"
   ]
  },
  {
   "cell_type": "markdown",
   "metadata": {},
   "source": [
    "### C. RGB colour histogram"
   ]
  },
  {
   "cell_type": "code",
   "execution_count": 489,
   "metadata": {},
   "outputs": [
    {
     "data": {
      "text/plain": [
       "(62210, 48)"
      ]
     },
     "execution_count": 489,
     "metadata": {},
     "output_type": "execute_result"
    }
   ],
   "source": [
    "X_train_colour_hists.shape"
   ]
  },
  {
   "cell_type": "code",
   "execution_count": 490,
   "metadata": {},
   "outputs": [
    {
     "data": {
      "text/html": [
       "<div>\n",
       "<style scoped>\n",
       "    .dataframe tbody tr th:only-of-type {\n",
       "        vertical-align: middle;\n",
       "    }\n",
       "\n",
       "    .dataframe tbody tr th {\n",
       "        vertical-align: top;\n",
       "    }\n",
       "\n",
       "    .dataframe thead th {\n",
       "        text-align: right;\n",
       "    }\n",
       "</style>\n",
       "<table border=\"1\" class=\"dataframe\">\n",
       "  <thead>\n",
       "    <tr style=\"text-align: right;\">\n",
       "      <th></th>\n",
       "      <th>916</th>\n",
       "      <th>917</th>\n",
       "      <th>918</th>\n",
       "      <th>919</th>\n",
       "      <th>920</th>\n",
       "      <th>921</th>\n",
       "      <th>922</th>\n",
       "      <th>923</th>\n",
       "      <th>924</th>\n",
       "      <th>925</th>\n",
       "      <th>...</th>\n",
       "      <th>954</th>\n",
       "      <th>955</th>\n",
       "      <th>956</th>\n",
       "      <th>957</th>\n",
       "      <th>958</th>\n",
       "      <th>959</th>\n",
       "      <th>960</th>\n",
       "      <th>961</th>\n",
       "      <th>962</th>\n",
       "      <th>963</th>\n",
       "    </tr>\n",
       "  </thead>\n",
       "  <tbody>\n",
       "    <tr>\n",
       "      <th>0</th>\n",
       "      <td>570.0</td>\n",
       "      <td>957.0</td>\n",
       "      <td>448.0</td>\n",
       "      <td>214.0</td>\n",
       "      <td>179.0</td>\n",
       "      <td>227.0</td>\n",
       "      <td>243.0</td>\n",
       "      <td>197.0</td>\n",
       "      <td>152.0</td>\n",
       "      <td>95.0</td>\n",
       "      <td>...</td>\n",
       "      <td>129.0</td>\n",
       "      <td>160.0</td>\n",
       "      <td>264.0</td>\n",
       "      <td>233.0</td>\n",
       "      <td>144.0</td>\n",
       "      <td>121.0</td>\n",
       "      <td>117.0</td>\n",
       "      <td>80.0</td>\n",
       "      <td>35.0</td>\n",
       "      <td>23.0</td>\n",
       "    </tr>\n",
       "    <tr>\n",
       "      <th>1</th>\n",
       "      <td>26.0</td>\n",
       "      <td>99.0</td>\n",
       "      <td>263.0</td>\n",
       "      <td>450.0</td>\n",
       "      <td>656.0</td>\n",
       "      <td>552.0</td>\n",
       "      <td>525.0</td>\n",
       "      <td>349.0</td>\n",
       "      <td>252.0</td>\n",
       "      <td>186.0</td>\n",
       "      <td>...</td>\n",
       "      <td>338.0</td>\n",
       "      <td>277.0</td>\n",
       "      <td>199.0</td>\n",
       "      <td>122.0</td>\n",
       "      <td>94.0</td>\n",
       "      <td>26.0</td>\n",
       "      <td>11.0</td>\n",
       "      <td>8.0</td>\n",
       "      <td>3.0</td>\n",
       "      <td>1.0</td>\n",
       "    </tr>\n",
       "    <tr>\n",
       "      <th>2</th>\n",
       "      <td>9.0</td>\n",
       "      <td>42.0</td>\n",
       "      <td>143.0</td>\n",
       "      <td>324.0</td>\n",
       "      <td>668.0</td>\n",
       "      <td>494.0</td>\n",
       "      <td>447.0</td>\n",
       "      <td>407.0</td>\n",
       "      <td>368.0</td>\n",
       "      <td>344.0</td>\n",
       "      <td>...</td>\n",
       "      <td>440.0</td>\n",
       "      <td>351.0</td>\n",
       "      <td>218.0</td>\n",
       "      <td>124.0</td>\n",
       "      <td>63.0</td>\n",
       "      <td>21.0</td>\n",
       "      <td>9.0</td>\n",
       "      <td>7.0</td>\n",
       "      <td>6.0</td>\n",
       "      <td>3.0</td>\n",
       "    </tr>\n",
       "    <tr>\n",
       "      <th>3</th>\n",
       "      <td>11.0</td>\n",
       "      <td>83.0</td>\n",
       "      <td>104.0</td>\n",
       "      <td>486.0</td>\n",
       "      <td>1003.0</td>\n",
       "      <td>545.0</td>\n",
       "      <td>724.0</td>\n",
       "      <td>191.0</td>\n",
       "      <td>199.0</td>\n",
       "      <td>88.0</td>\n",
       "      <td>...</td>\n",
       "      <td>871.0</td>\n",
       "      <td>427.0</td>\n",
       "      <td>578.0</td>\n",
       "      <td>292.0</td>\n",
       "      <td>75.0</td>\n",
       "      <td>102.0</td>\n",
       "      <td>81.0</td>\n",
       "      <td>30.0</td>\n",
       "      <td>33.0</td>\n",
       "      <td>10.0</td>\n",
       "    </tr>\n",
       "    <tr>\n",
       "      <th>4</th>\n",
       "      <td>4.0</td>\n",
       "      <td>37.0</td>\n",
       "      <td>69.0</td>\n",
       "      <td>112.0</td>\n",
       "      <td>159.0</td>\n",
       "      <td>101.0</td>\n",
       "      <td>145.0</td>\n",
       "      <td>187.0</td>\n",
       "      <td>707.0</td>\n",
       "      <td>1299.0</td>\n",
       "      <td>...</td>\n",
       "      <td>166.0</td>\n",
       "      <td>285.0</td>\n",
       "      <td>605.0</td>\n",
       "      <td>1011.0</td>\n",
       "      <td>822.0</td>\n",
       "      <td>192.0</td>\n",
       "      <td>39.0</td>\n",
       "      <td>14.0</td>\n",
       "      <td>8.0</td>\n",
       "      <td>5.0</td>\n",
       "    </tr>\n",
       "  </tbody>\n",
       "</table>\n",
       "<p>5 rows × 48 columns</p>\n",
       "</div>"
      ],
      "text/plain": [
       "     916    917    918    919     920    921    922    923    924     925  \\\n",
       "0  570.0  957.0  448.0  214.0   179.0  227.0  243.0  197.0  152.0    95.0   \n",
       "1   26.0   99.0  263.0  450.0   656.0  552.0  525.0  349.0  252.0   186.0   \n",
       "2    9.0   42.0  143.0  324.0   668.0  494.0  447.0  407.0  368.0   344.0   \n",
       "3   11.0   83.0  104.0  486.0  1003.0  545.0  724.0  191.0  199.0    88.0   \n",
       "4    4.0   37.0   69.0  112.0   159.0  101.0  145.0  187.0  707.0  1299.0   \n",
       "\n",
       "   ...    954    955    956     957    958    959    960   961   962   963  \n",
       "0  ...  129.0  160.0  264.0   233.0  144.0  121.0  117.0  80.0  35.0  23.0  \n",
       "1  ...  338.0  277.0  199.0   122.0   94.0   26.0   11.0   8.0   3.0   1.0  \n",
       "2  ...  440.0  351.0  218.0   124.0   63.0   21.0    9.0   7.0   6.0   3.0  \n",
       "3  ...  871.0  427.0  578.0   292.0   75.0  102.0   81.0  30.0  33.0  10.0  \n",
       "4  ...  166.0  285.0  605.0  1011.0  822.0  192.0   39.0  14.0   8.0   5.0  \n",
       "\n",
       "[5 rows x 48 columns]"
      ]
     },
     "execution_count": 490,
     "metadata": {},
     "output_type": "execute_result"
    }
   ],
   "source": [
    "X_train_colour_hists.head(5)"
   ]
  },
  {
   "cell_type": "markdown",
   "metadata": {},
   "source": [
    "Extract the individual colour channels in the histogram"
   ]
  },
  {
   "cell_type": "code",
   "execution_count": 516,
   "metadata": {},
   "outputs": [],
   "source": [
    "red_channel = X_train_colour_hists.iloc[:, :16]\n",
    "blue_channel = X_train_colour_hists.iloc[:, 16:32]\n",
    "green_channel = X_train_colour_hists.iloc[:, 32:]"
   ]
  },
  {
   "cell_type": "markdown",
   "metadata": {},
   "source": [
    "Visualise RGB histogram for a single image"
   ]
  },
  {
   "cell_type": "code",
   "execution_count": 551,
   "metadata": {},
   "outputs": [
    {
     "data": {
      "image/png": "[encoded data removed]",
      "text/plain": [
       "<Figure size 720x576 with 1 Axes>"
      ]
     },
     "metadata": {
      "needs_background": "light"
     },
     "output_type": "display_data"
    }
   ],
   "source": [
    "# Matplot lib plot (line graph).\n",
    "plt.figure(figsize=(10, 8))\n",
    "bin_labels = [i for i in range(0, 255, 16)]\n",
    "plt.plot(bin_labels, red_channel.iloc[0].values, color=\"red\")\n",
    "plt.plot(bin_labels, green_channel.iloc[0].values, color=\"green\")\n",
    "plt.plot(bin_labels, blue_channel.iloc[0].values, color=\"blue\")\n",
    "plt.xlim((0, 255-16))\n",
    "plt.ylim(0, max(max(red_channel.iloc[0].values), max(green_channel.iloc[0].values), max(blue_channel.iloc[0].values)) + 25)  # Add padding.\n",
    "plt.xlabel(\"Bins\")\n",
    "plt.ylabel(\"Pixel Frequency\")\n",
    "plt.title(\"RGB Histogram for a single image\")\n",
    "plt.grid(color='#95a5a6', linestyle='-', linewidth=1, axis='y', alpha=0.5)\n",
    "    \n",
    "# Save and display chart.\n",
    "plt.savefig(\"rgb_hist_single_image.png\")\n",
    "plt.show()"
   ]
  },
  {
   "cell_type": "markdown",
   "metadata": {},
   "source": [
    "Visualise the aggregate RGB histogram for all images"
   ]
  },
  {
   "cell_type": "code",
   "execution_count": 552,
   "metadata": {},
   "outputs": [
    {
     "data": {
      "image/png": "[encoded data removed]",
      "text/plain": [
       "<Figure size 720x576 with 1 Axes>"
      ]
     },
     "metadata": {
      "needs_background": "light"
     },
     "output_type": "display_data"
    }
   ],
   "source": [
    "# Matplot lib plot (line graph).\n",
    "plt.figure(figsize=(10, 8))\n",
    "plt.plot(bin_labels, red_channel.mean().values, color=\"red\")\n",
    "plt.plot(bin_labels, green_channel.mean().values, color=\"green\")\n",
    "plt.plot(bin_labels, blue_channel.mean().values, color=\"blue\")\n",
    "plt.xlim((0, 255-16))\n",
    "plt.ylim(0, max(max(red_channel.mean().values), max(green_channel.mean().values), max(blue_channel.mean().values)) + 25)  # Add padding.\n",
    "plt.xlabel(\"Bins\")\n",
    "plt.ylabel(\"Average Pixel Frequency\")\n",
    "plt.title(\"Average RGB Histogram of all images in the training set\")\n",
    "plt.grid(color='#95a5a6', linestyle='-', linewidth=1, axis='y', alpha=0.5)\n",
    "    \n",
    "# Save and display chart.\n",
    "plt.savefig(\"rgb_avg_hist_all_training_set.png\")\n",
    "plt.show()"
   ]
  },
  {
   "cell_type": "markdown",
   "metadata": {},
   "source": [
    "### D. Class ID"
   ]
  },
  {
   "cell_type": "code",
   "execution_count": 495,
   "metadata": {},
   "outputs": [
    {
     "name": "stdout",
     "output_type": "stream",
     "text": [
      "<class 'pandas.core.frame.DataFrame'>\n",
      "Int64Index: 49768 entries, 5149 to 12116\n",
      "Data columns (total 1 columns):\n",
      " #   Column  Non-Null Count  Dtype \n",
      "---  ------  --------------  ----- \n",
      " 0   0       49768 non-null  object\n",
      "dtypes: object(1)\n",
      "memory usage: 777.6+ KB\n"
     ]
    }
   ],
   "source": [
    "y_train.info()"
   ]
  },
  {
   "cell_type": "markdown",
   "metadata": {},
   "source": [
    "Count the occurences (and relative % distribution) of each class in the training set."
   ]
  },
  {
   "cell_type": "code",
   "execution_count": 498,
   "metadata": {},
   "outputs": [
    {
     "data": {
      "text/plain": [
       "{'seal': {'occurences': 7778, 'distribution': 0.12503},\n",
       " 'background': {'occurences': 54432, 'distribution': 0.87497}}"
      ]
     },
     "execution_count": 498,
     "metadata": {},
     "output_type": "execute_result"
    }
   ],
   "source": [
    "total_occurences = y_train_load.shape[0]\n",
    "class_distribution = {\n",
    "    'seal': {\n",
    "        'occurences': y_train_load[0].value_counts()[\"seal\"],\n",
    "        'distribution': round(y_train_load[0].value_counts()[\"seal\"] / total_occurences, 5)\n",
    "    },\n",
    "    'background': {\n",
    "        'occurences': y_train_load[0].value_counts()[\"background\"],\n",
    "        'distribution': round(y_train_load[0].value_counts()[\"background\"] / total_occurences, 5)\n",
    "    }\n",
    "}\n",
    "class_distribution"
   ]
  },
  {
   "cell_type": "markdown",
   "metadata": {},
   "source": [
    "Plot the distribution of classes in the training set in a bar chart."
   ]
  },
  {
   "cell_type": "code",
   "execution_count": 503,
   "metadata": {},
   "outputs": [
    {
     "data": {
      "image/png": "[encoded data removed]",
      "text/plain": [
       "<Figure size 720x576 with 1 Axes>"
      ]
     },
     "metadata": {
      "needs_background": "light"
     },
     "output_type": "display_data"
    }
   ],
   "source": [
    "# Data preparation for bar chart.\n",
    "data = [class_distribution['seal']['occurences'], class_distribution['background']['occurences']]\n",
    "value_labels = [class_distribution['seal']['distribution'], class_distribution['background']['distribution']]\n",
    "x_axis_labels = [\"seal\", \"background\"]\n",
    "\n",
    "# Matplot lib bar chart.\n",
    "plt.figure(figsize=(10, 8))\n",
    "plt.xticks(range(len(data)), labels)\n",
    "plt.xlabel(\"Class\")\n",
    "plt.ylabel(\"Occurences\")\n",
    "plt.title(\"Binary dataset: Class frequency occurences & distribution\")\n",
    "plt.bar(x_axis_labels, data)\n",
    "plt.grid(color='#95a5a6', linestyle='-', linewidth=1, axis='y', alpha=0.5)\n",
    "\n",
    "# Add value labels for each bar.\n",
    "for a,b in zip(x_axis_labels, data):\n",
    "    plt.text(a, b, \"{}%\".format(str(round(class_distribution[a]['distribution'], 2))))\n",
    "    \n",
    "# Save and display chart.\n",
    "plt.savefig(\"binary_class_distribution.png\")\n",
    "plt.show()"
   ]
  },
  {
   "cell_type": "markdown",
   "metadata": {},
   "source": [
    "### E. Correlation"
   ]
  },
  {
   "cell_type": "code",
   "execution_count": 597,
   "metadata": {},
   "outputs": [],
   "source": [
    "# temp_data = X_train_binary.concat(y_train_binary, axis=1)\n",
    "temp_data = pd.concat([X_train_binary, y_train_binary], axis=1)"
   ]
  },
  {
   "cell_type": "code",
   "execution_count": 599,
   "metadata": {},
   "outputs": [],
   "source": [
    "correlation_matrix = temp_data.corr()"
   ]
  },
  {
   "cell_type": "code",
   "execution_count": 603,
   "metadata": {},
   "outputs": [
    {
     "data": {
      "text/html": [
       "<div>\n",
       "<style scoped>\n",
       "    .dataframe tbody tr th:only-of-type {\n",
       "        vertical-align: middle;\n",
       "    }\n",
       "\n",
       "    .dataframe tbody tr th {\n",
       "        vertical-align: top;\n",
       "    }\n",
       "\n",
       "    .dataframe thead th {\n",
       "        text-align: right;\n",
       "    }\n",
       "</style>\n",
       "<table border=\"1\" class=\"dataframe\">\n",
       "  <thead>\n",
       "    <tr style=\"text-align: right;\">\n",
       "      <th></th>\n",
       "      <th>0</th>\n",
       "      <th>1</th>\n",
       "      <th>2</th>\n",
       "      <th>3</th>\n",
       "      <th>4</th>\n",
       "      <th>5</th>\n",
       "      <th>6</th>\n",
       "      <th>7</th>\n",
       "      <th>8</th>\n",
       "      <th>9</th>\n",
       "      <th>...</th>\n",
       "      <th>954</th>\n",
       "      <th>955</th>\n",
       "      <th>956</th>\n",
       "      <th>957</th>\n",
       "      <th>958</th>\n",
       "      <th>959</th>\n",
       "      <th>960</th>\n",
       "      <th>961</th>\n",
       "      <th>962</th>\n",
       "      <th>963</th>\n",
       "    </tr>\n",
       "  </thead>\n",
       "  <tbody>\n",
       "    <tr>\n",
       "      <th>0</th>\n",
       "      <td>1.000000</td>\n",
       "      <td>0.388745</td>\n",
       "      <td>0.219949</td>\n",
       "      <td>0.092884</td>\n",
       "      <td>0.108756</td>\n",
       "      <td>-0.024468</td>\n",
       "      <td>0.061571</td>\n",
       "      <td>0.215500</td>\n",
       "      <td>0.380777</td>\n",
       "      <td>0.324075</td>\n",
       "      <td>...</td>\n",
       "      <td>0.097345</td>\n",
       "      <td>0.074151</td>\n",
       "      <td>0.067999</td>\n",
       "      <td>0.042945</td>\n",
       "      <td>0.022741</td>\n",
       "      <td>-0.002070</td>\n",
       "      <td>-0.029716</td>\n",
       "      <td>-0.089810</td>\n",
       "      <td>-0.235822</td>\n",
       "      <td>-0.343559</td>\n",
       "    </tr>\n",
       "    <tr>\n",
       "      <th>1</th>\n",
       "      <td>0.388745</td>\n",
       "      <td>1.000000</td>\n",
       "      <td>0.515055</td>\n",
       "      <td>0.260867</td>\n",
       "      <td>0.077206</td>\n",
       "      <td>-0.204973</td>\n",
       "      <td>-0.257241</td>\n",
       "      <td>-0.155534</td>\n",
       "      <td>0.065720</td>\n",
       "      <td>0.164581</td>\n",
       "      <td>...</td>\n",
       "      <td>0.097664</td>\n",
       "      <td>0.096038</td>\n",
       "      <td>0.085857</td>\n",
       "      <td>0.063156</td>\n",
       "      <td>0.031484</td>\n",
       "      <td>0.001272</td>\n",
       "      <td>-0.025729</td>\n",
       "      <td>-0.067761</td>\n",
       "      <td>-0.169202</td>\n",
       "      <td>-0.227236</td>\n",
       "    </tr>\n",
       "    <tr>\n",
       "      <th>2</th>\n",
       "      <td>0.219949</td>\n",
       "      <td>0.515055</td>\n",
       "      <td>1.000000</td>\n",
       "      <td>0.480091</td>\n",
       "      <td>0.221800</td>\n",
       "      <td>-0.135615</td>\n",
       "      <td>-0.272108</td>\n",
       "      <td>-0.264674</td>\n",
       "      <td>-0.110492</td>\n",
       "      <td>0.091753</td>\n",
       "      <td>...</td>\n",
       "      <td>0.113465</td>\n",
       "      <td>0.106074</td>\n",
       "      <td>0.090703</td>\n",
       "      <td>0.068948</td>\n",
       "      <td>0.034869</td>\n",
       "      <td>-0.003481</td>\n",
       "      <td>-0.036077</td>\n",
       "      <td>-0.077017</td>\n",
       "      <td>-0.169665</td>\n",
       "      <td>-0.212596</td>\n",
       "    </tr>\n",
       "    <tr>\n",
       "      <th>3</th>\n",
       "      <td>0.092884</td>\n",
       "      <td>0.260867</td>\n",
       "      <td>0.480091</td>\n",
       "      <td>1.000000</td>\n",
       "      <td>0.414969</td>\n",
       "      <td>0.077781</td>\n",
       "      <td>-0.148070</td>\n",
       "      <td>-0.222291</td>\n",
       "      <td>-0.163376</td>\n",
       "      <td>0.028317</td>\n",
       "      <td>...</td>\n",
       "      <td>0.102992</td>\n",
       "      <td>0.082700</td>\n",
       "      <td>0.067640</td>\n",
       "      <td>0.040231</td>\n",
       "      <td>0.008066</td>\n",
       "      <td>-0.026142</td>\n",
       "      <td>-0.049678</td>\n",
       "      <td>-0.084797</td>\n",
       "      <td>-0.172714</td>\n",
       "      <td>-0.211647</td>\n",
       "    </tr>\n",
       "    <tr>\n",
       "      <th>4</th>\n",
       "      <td>0.108756</td>\n",
       "      <td>0.077206</td>\n",
       "      <td>0.221800</td>\n",
       "      <td>0.414969</td>\n",
       "      <td>1.000000</td>\n",
       "      <td>0.407485</td>\n",
       "      <td>0.178999</td>\n",
       "      <td>0.024865</td>\n",
       "      <td>-0.045375</td>\n",
       "      <td>-0.029298</td>\n",
       "      <td>...</td>\n",
       "      <td>0.089163</td>\n",
       "      <td>0.062447</td>\n",
       "      <td>0.044336</td>\n",
       "      <td>0.020868</td>\n",
       "      <td>0.000932</td>\n",
       "      <td>-0.022146</td>\n",
       "      <td>-0.040774</td>\n",
       "      <td>-0.072734</td>\n",
       "      <td>-0.162387</td>\n",
       "      <td>-0.230415</td>\n",
       "    </tr>\n",
       "    <tr>\n",
       "      <th>...</th>\n",
       "      <td>...</td>\n",
       "      <td>...</td>\n",
       "      <td>...</td>\n",
       "      <td>...</td>\n",
       "      <td>...</td>\n",
       "      <td>...</td>\n",
       "      <td>...</td>\n",
       "      <td>...</td>\n",
       "      <td>...</td>\n",
       "      <td>...</td>\n",
       "      <td>...</td>\n",
       "      <td>...</td>\n",
       "      <td>...</td>\n",
       "      <td>...</td>\n",
       "      <td>...</td>\n",
       "      <td>...</td>\n",
       "      <td>...</td>\n",
       "      <td>...</td>\n",
       "      <td>...</td>\n",
       "      <td>...</td>\n",
       "      <td>...</td>\n",
       "    </tr>\n",
       "    <tr>\n",
       "      <th>959</th>\n",
       "      <td>-0.002070</td>\n",
       "      <td>0.001272</td>\n",
       "      <td>-0.003481</td>\n",
       "      <td>-0.026142</td>\n",
       "      <td>-0.022146</td>\n",
       "      <td>-0.014858</td>\n",
       "      <td>0.009702</td>\n",
       "      <td>0.023156</td>\n",
       "      <td>0.018129</td>\n",
       "      <td>-0.004579</td>\n",
       "      <td>...</td>\n",
       "      <td>-0.066233</td>\n",
       "      <td>0.099485</td>\n",
       "      <td>0.285446</td>\n",
       "      <td>0.545519</td>\n",
       "      <td>0.807053</td>\n",
       "      <td>1.000000</td>\n",
       "      <td>0.805025</td>\n",
       "      <td>0.497614</td>\n",
       "      <td>0.270341</td>\n",
       "      <td>-0.002564</td>\n",
       "    </tr>\n",
       "    <tr>\n",
       "      <th>960</th>\n",
       "      <td>-0.029716</td>\n",
       "      <td>-0.025729</td>\n",
       "      <td>-0.036077</td>\n",
       "      <td>-0.049678</td>\n",
       "      <td>-0.040774</td>\n",
       "      <td>-0.020704</td>\n",
       "      <td>0.004571</td>\n",
       "      <td>0.012414</td>\n",
       "      <td>0.004367</td>\n",
       "      <td>-0.022646</td>\n",
       "      <td>...</td>\n",
       "      <td>-0.126384</td>\n",
       "      <td>-0.016734</td>\n",
       "      <td>0.118702</td>\n",
       "      <td>0.294063</td>\n",
       "      <td>0.524186</td>\n",
       "      <td>0.805025</td>\n",
       "      <td>1.000000</td>\n",
       "      <td>0.789823</td>\n",
       "      <td>0.466384</td>\n",
       "      <td>0.075776</td>\n",
       "    </tr>\n",
       "    <tr>\n",
       "      <th>961</th>\n",
       "      <td>-0.089810</td>\n",
       "      <td>-0.067761</td>\n",
       "      <td>-0.077017</td>\n",
       "      <td>-0.084797</td>\n",
       "      <td>-0.072734</td>\n",
       "      <td>-0.035115</td>\n",
       "      <td>-0.016770</td>\n",
       "      <td>-0.016361</td>\n",
       "      <td>-0.022092</td>\n",
       "      <td>-0.064513</td>\n",
       "      <td>...</td>\n",
       "      <td>-0.165392</td>\n",
       "      <td>-0.083824</td>\n",
       "      <td>0.001111</td>\n",
       "      <td>0.120936</td>\n",
       "      <td>0.276844</td>\n",
       "      <td>0.497614</td>\n",
       "      <td>0.789823</td>\n",
       "      <td>1.000000</td>\n",
       "      <td>0.724038</td>\n",
       "      <td>0.215676</td>\n",
       "    </tr>\n",
       "    <tr>\n",
       "      <th>962</th>\n",
       "      <td>-0.235822</td>\n",
       "      <td>-0.169202</td>\n",
       "      <td>-0.169665</td>\n",
       "      <td>-0.172714</td>\n",
       "      <td>-0.162387</td>\n",
       "      <td>-0.078546</td>\n",
       "      <td>-0.067711</td>\n",
       "      <td>-0.089883</td>\n",
       "      <td>-0.093672</td>\n",
       "      <td>-0.169418</td>\n",
       "      <td>...</td>\n",
       "      <td>-0.218051</td>\n",
       "      <td>-0.148434</td>\n",
       "      <td>-0.080083</td>\n",
       "      <td>0.013028</td>\n",
       "      <td>0.125078</td>\n",
       "      <td>0.270341</td>\n",
       "      <td>0.466384</td>\n",
       "      <td>0.724038</td>\n",
       "      <td>1.000000</td>\n",
       "      <td>0.565287</td>\n",
       "    </tr>\n",
       "    <tr>\n",
       "      <th>963</th>\n",
       "      <td>-0.343559</td>\n",
       "      <td>-0.227236</td>\n",
       "      <td>-0.212596</td>\n",
       "      <td>-0.211647</td>\n",
       "      <td>-0.230415</td>\n",
       "      <td>-0.155829</td>\n",
       "      <td>-0.160721</td>\n",
       "      <td>-0.214288</td>\n",
       "      <td>-0.187307</td>\n",
       "      <td>-0.269576</td>\n",
       "      <td>...</td>\n",
       "      <td>-0.226496</td>\n",
       "      <td>-0.193009</td>\n",
       "      <td>-0.155834</td>\n",
       "      <td>-0.112809</td>\n",
       "      <td>-0.064245</td>\n",
       "      <td>-0.002564</td>\n",
       "      <td>0.075776</td>\n",
       "      <td>0.215676</td>\n",
       "      <td>0.565287</td>\n",
       "      <td>1.000000</td>\n",
       "    </tr>\n",
       "  </tbody>\n",
       "</table>\n",
       "<p>964 rows × 964 columns</p>\n",
       "</div>"
      ],
      "text/plain": [
       "          0         1         2         3         4         5         6    \\\n",
       "0    1.000000  0.388745  0.219949  0.092884  0.108756 -0.024468  0.061571   \n",
       "1    0.388745  1.000000  0.515055  0.260867  0.077206 -0.204973 -0.257241   \n",
       "2    0.219949  0.515055  1.000000  0.480091  0.221800 -0.135615 -0.272108   \n",
       "3    0.092884  0.260867  0.480091  1.000000  0.414969  0.077781 -0.148070   \n",
       "4    0.108756  0.077206  0.221800  0.414969  1.000000  0.407485  0.178999   \n",
       "..        ...       ...       ...       ...       ...       ...       ...   \n",
       "959 -0.002070  0.001272 -0.003481 -0.026142 -0.022146 -0.014858  0.009702   \n",
       "960 -0.029716 -0.025729 -0.036077 -0.049678 -0.040774 -0.020704  0.004571   \n",
       "961 -0.089810 -0.067761 -0.077017 -0.084797 -0.072734 -0.035115 -0.016770   \n",
       "962 -0.235822 -0.169202 -0.169665 -0.172714 -0.162387 -0.078546 -0.067711   \n",
       "963 -0.343559 -0.227236 -0.212596 -0.211647 -0.230415 -0.155829 -0.160721   \n",
       "\n",
       "          7         8         9    ...       954       955       956  \\\n",
       "0    0.215500  0.380777  0.324075  ...  0.097345  0.074151  0.067999   \n",
       "1   -0.155534  0.065720  0.164581  ...  0.097664  0.096038  0.085857   \n",
       "2   -0.264674 -0.110492  0.091753  ...  0.113465  0.106074  0.090703   \n",
       "3   -0.222291 -0.163376  0.028317  ...  0.102992  0.082700  0.067640   \n",
       "4    0.024865 -0.045375 -0.029298  ...  0.089163  0.062447  0.044336   \n",
       "..        ...       ...       ...  ...       ...       ...       ...   \n",
       "959  0.023156  0.018129 -0.004579  ... -0.066233  0.099485  0.285446   \n",
       "960  0.012414  0.004367 -0.022646  ... -0.126384 -0.016734  0.118702   \n",
       "961 -0.016361 -0.022092 -0.064513  ... -0.165392 -0.083824  0.001111   \n",
       "962 -0.089883 -0.093672 -0.169418  ... -0.218051 -0.148434 -0.080083   \n",
       "963 -0.214288 -0.187307 -0.269576  ... -0.226496 -0.193009 -0.155834   \n",
       "\n",
       "          957       958       959       960       961       962       963  \n",
       "0    0.042945  0.022741 -0.002070 -0.029716 -0.089810 -0.235822 -0.343559  \n",
       "1    0.063156  0.031484  0.001272 -0.025729 -0.067761 -0.169202 -0.227236  \n",
       "2    0.068948  0.034869 -0.003481 -0.036077 -0.077017 -0.169665 -0.212596  \n",
       "3    0.040231  0.008066 -0.026142 -0.049678 -0.084797 -0.172714 -0.211647  \n",
       "4    0.020868  0.000932 -0.022146 -0.040774 -0.072734 -0.162387 -0.230415  \n",
       "..        ...       ...       ...       ...       ...       ...       ...  \n",
       "959  0.545519  0.807053  1.000000  0.805025  0.497614  0.270341 -0.002564  \n",
       "960  0.294063  0.524186  0.805025  1.000000  0.789823  0.466384  0.075776  \n",
       "961  0.120936  0.276844  0.497614  0.789823  1.000000  0.724038  0.215676  \n",
       "962  0.013028  0.125078  0.270341  0.466384  0.724038  1.000000  0.565287  \n",
       "963 -0.112809 -0.064245 -0.002564  0.075776  0.215676  0.565287  1.000000  \n",
       "\n",
       "[964 rows x 964 columns]"
      ]
     },
     "execution_count": 603,
     "metadata": {},
     "output_type": "execute_result"
    }
   ],
   "source": [
    "correlation_matrix"
   ]
  },
  {
   "cell_type": "code",
   "execution_count": 611,
   "metadata": {},
   "outputs": [
    {
     "name": "stdout",
     "output_type": "stream",
     "text": [
      "10 features with the strongest positive correlation with the  output:\n"
     ]
    },
    {
     "data": {
      "text/plain": [
       "963    1.000000\n",
       "947    0.999536\n",
       "931    0.999236\n",
       "962    0.565287\n",
       "930    0.564637\n",
       "946    0.549370\n",
       "961    0.215676\n",
       "929    0.206197\n",
       "945    0.189688\n",
       "948    0.082540\n",
       "960    0.075776\n",
       "Name: 963, dtype: float64"
      ]
     },
     "metadata": {},
     "output_type": "display_data"
    },
    {
     "name": "stdout",
     "output_type": "stream",
     "text": [
      "\n",
      "10 features with the strongest negative correlation with the  output:\n"
     ]
    },
    {
     "data": {
      "text/plain": [
       "891   -0.377049\n",
       "855   -0.373452\n",
       "738   -0.349698\n",
       "882   -0.348397\n",
       "0     -0.343559\n",
       "747   -0.342780\n",
       "774   -0.339837\n",
       "819   -0.338024\n",
       "153   -0.333938\n",
       "117   -0.327793\n",
       "Name: 963, dtype: float64"
      ]
     },
     "metadata": {},
     "output_type": "display_data"
    }
   ],
   "source": [
    "print(\"10 features with the strongest positive correlation with the  output:\")\n",
    "display(correlation_matrix.iloc[963].sort_values(ascending=False).head(11))\n",
    "print(\"\\n10 features with the strongest negative correlation with the  output:\")\n",
    "display(correlation_matrix.iloc[963].sort_values(ascending=True).head(10))"
   ]
  },
  {
   "cell_type": "markdown",
   "metadata": {},
   "source": [
    "**Observations**:\n",
    "* The features that have the strongest positive correlation with the output label are between the range 929 to  963, falling into the category of RGB histogram features.\n",
    "* The features that have the strongest negative correlation with the output label are between the range 0 to 891, falling into the category of HoG features.\n",
    "* No normal distribution features show strong correlation.\n",
    "\n",
    "--> Can drop the normal distribution features from the data set."
   ]
  },
  {
   "cell_type": "markdown",
   "metadata": {},
   "source": [
    "# Part 4: Prepare inputs"
   ]
  },
  {
   "cell_type": "markdown",
   "metadata": {},
   "source": [
    "### Split Train/Validation data sets"
   ]
  },
  {
   "cell_type": "markdown",
   "metadata": {},
   "source": [
    "The data is already split into training and testing sets. To avoid data snooping, the testing set is ignored until the evaluation section.\n",
    "\n",
    "However, the training set is further split between a training and a validation set to evaluate its performance during training.\n",
    "\n",
    "A randomised 80%/20% split is used rather than stratified sampling because the dataset is large enough. According to Hands-On ML, if the dataset is large enough, the risk of introducing sampling bias is low (he mentions a set of 1,000 rows, whereas ours has 62210 rows).\n",
    "\n",
    "The random number generator's seed is set at a fixed value to ensure that it always generates the same shuffle indices when re-running the code, ensuring reproducibility."
   ]
  },
  {
   "cell_type": "code",
   "execution_count": 504,
   "metadata": {},
   "outputs": [],
   "source": [
    "X_train, X_validate, y_train, y_validate = train_test_split(X_train_binary, \n",
    "                                                            y_train_binary, \n",
    "                                                            test_size=0.2, \n",
    "                                                            random_state=RANDOM_SEED)"
   ]
  },
  {
   "cell_type": "markdown",
   "metadata": {},
   "source": [
    "Confirm new training dataset sizes:"
   ]
  },
  {
   "cell_type": "code",
   "execution_count": 505,
   "metadata": {},
   "outputs": [
    {
     "name": "stdout",
     "output_type": "stream",
     "text": [
      "Training set split:\n",
      "Train set size = (49768, 964)\n",
      "Validation set size = (12442, 964)\n"
     ]
    }
   ],
   "source": [
    "print(\"Training set split:\\nTrain set size = {}\\nValidation set size = {}\".format(X_train.shape, X_validate.shape))"
   ]
  },
  {
   "cell_type": "markdown",
   "metadata": {},
   "source": [
    "### Data conversion"
   ]
  },
  {
   "cell_type": "markdown",
   "metadata": {},
   "source": [
    "Convert class ID output to boolean format for logistic regression (True if it's a \"seal\", False if it's a \"background\")."
   ]
  },
  {
   "cell_type": "code",
   "execution_count": 506,
   "metadata": {},
   "outputs": [],
   "source": [
    "y_train_seal = (y_train == \"seal\")"
   ]
  },
  {
   "cell_type": "markdown",
   "metadata": {},
   "source": [
    "# Parts 5/6: Select & train classification models"
   ]
  },
  {
   "cell_type": "code",
   "execution_count": 507,
   "metadata": {},
   "outputs": [
    {
     "name": "stdout",
     "output_type": "stream",
     "text": [
      "CPU times: user 22.6 s, sys: 249 ms, total: 22.9 s\n",
      "Wall time: 23.2 s\n"
     ]
    },
    {
     "data": {
      "text/plain": [
       "SGDClassifier(alpha=0.0001, average=False, class_weight=None,\n",
       "              early_stopping=False, epsilon=0.1, eta0=0.0, fit_intercept=True,\n",
       "              l1_ratio=0.15, learning_rate='optimal', loss='hinge',\n",
       "              max_iter=1000, n_iter_no_change=5, n_jobs=None, penalty='l2',\n",
       "              power_t=0.5, random_state=111, shuffle=True, tol=0.001,\n",
       "              validation_fraction=0.1, verbose=0, warm_start=False)"
      ]
     },
     "execution_count": 507,
     "metadata": {},
     "output_type": "execute_result"
    }
   ],
   "source": [
    "%%time\n",
    "y_train_seal_unravelled = y_train_seal.values.ravel()\n",
    "sgd_classifier = SGDClassifier(max_iter=1000, tol=1e-3, random_state=RANDOM_SEED)\n",
    "sgd_classifier.fit(X_train, y_train_seal_unravelled)\n",
    "# use values to get the values in an array, so a shape of (n,1) and then ravel() to the convert that array shape to (n, )"
   ]
  },
  {
   "cell_type": "code",
   "execution_count": 508,
   "metadata": {},
   "outputs": [],
   "source": [
    "y_prediction = sgd_classifier.predict(X_train)\n",
    "confusion_matrix = confusion_matrix(y_train_seal, y_prediction)"
   ]
  },
  {
   "cell_type": "code",
   "execution_count": 509,
   "metadata": {},
   "outputs": [
    {
     "data": {
      "text/plain": [
       "Text(0.5, 1.0, 'Confusion matrix (normalised)')"
      ]
     },
     "execution_count": 509,
     "metadata": {},
     "output_type": "execute_result"
    },
    {
     "data": {
      "image/png": "[encoded data removed]",
      "text/plain": [
       "<Figure size 576x360 with 2 Axes>"
      ]
     },
     "metadata": {
      "needs_background": "light"
     },
     "output_type": "display_data"
    },
    {
     "data": {
      "image/png": "[encoded data removed]",
      "text/plain": [
       "<Figure size 576x360 with 2 Axes>"
      ]
     },
     "metadata": {
      "needs_background": "light"
     },
     "output_type": "display_data"
    }
   ],
   "source": [
    "# Confusion matrix.\n",
    "cm_df = pd.DataFrame(confusion_matrix, index=[\"Seal\", \"Background\"], columns=[\"Seal\", \"Background\"], )\n",
    "fig = plt.figure(figsize=(8,5))\n",
    "heatmap = sns.heatmap(cm_df, cmap=\"YlGnBu\", annot=True, fmt=\"d\")\n",
    "heatmap.yaxis.set_ticklabels(heatmap.yaxis.get_ticklabels(), rotation=0, ha='right', fontsize=11)\n",
    "heatmap.xaxis.set_ticklabels(heatmap.xaxis.get_ticklabels(), rotation=45, ha='right', fontsize=11)\n",
    "plt.ylabel('True label', fontsize=14)\n",
    "plt.xlabel('Predicted label', fontsize=14)\n",
    "plt.title(\"Confusion matrix (not normalised)\", fontsize=15)\n",
    "\n",
    "# Normalied confusion matrix.\n",
    "cm_norm = confusion_matrix.astype('float') / confusion_matrix.sum(axis=1)[:, np.newaxis]\n",
    "cm_df = pd.DataFrame(cm_norm, index=[\"Seal\", \"Background\"], columns=[\"Seal\", \"Background\"], )\n",
    "fig = plt.figure(figsize=(8,5))\n",
    "heatmap = sns.heatmap(cm_df, cmap=\"YlGnBu\", annot=True, fmt=\".2f\")\n",
    "heatmap.yaxis.set_ticklabels(heatmap.yaxis.get_ticklabels(), rotation=0, ha='right', fontsize=11)\n",
    "heatmap.xaxis.set_ticklabels(heatmap.xaxis.get_ticklabels(), rotation=45, ha='right', fontsize=11)\n",
    "plt.ylabel('True label', fontsize=14)\n",
    "plt.xlabel('Predicted label', fontsize=14)\n",
    "plt.title(\"Confusion matrix (normalised)\", fontsize=15)"
   ]
  },
  {
   "cell_type": "markdown",
   "metadata": {},
   "source": [
    "# Part 7: Evaluating & comparing models performance "
   ]
  },
  {
   "cell_type": "markdown",
   "metadata": {},
   "source": [
    "### Load testing data"
   ]
  },
  {
   "cell_type": "code",
   "execution_count": 510,
   "metadata": {},
   "outputs": [],
   "source": [
    "X_test = pd.read_csv(\"../data/binary/X_test.csv\")"
   ]
  },
  {
   "cell_type": "markdown",
   "metadata": {},
   "source": [
    "# Part 8: Critical discussion of the results, approach and methods"
   ]
  },
  {
   "cell_type": "code",
   "execution_count": 511,
   "metadata": {},
   "outputs": [],
   "source": [
    "#todo"
   ]
  },
  {
   "cell_type": "markdown",
   "metadata": {},
   "source": [
    "# Helper Functions"
   ]
  },
  {
   "cell_type": "code",
   "execution_count": 512,
   "metadata": {},
   "outputs": [],
   "source": [
    "def save_model(model, model_type):\n",
    "    \"\"\"\n",
    "    Function to save the model to a file.\n",
    "    :param model:\n",
    "    :param model_type:\n",
    "    :return:\n",
    "    \"\"\"\n",
    "    joblib.dump(model, \"trained_models/{}.pkl\".format(model_type))"
   ]
  },
  {
   "cell_type": "code",
   "execution_count": 513,
   "metadata": {},
   "outputs": [],
   "source": [
    "def load_model(model_type):\n",
    "    \"\"\"\n",
    "    Function to load model.\n",
    "    :param model_type:\n",
    "    :return:\n",
    "    \"\"\"\n",
    "    return joblib.load(\"trained_models/{}.pkl\".format(model_type))"
   ]
  },
  {
   "cell_type": "code",
   "execution_count": null,
   "metadata": {},
   "outputs": [],
   "source": []
  }
 ],
 "metadata": {
  "kernelspec": {
   "display_name": "Python 3",
   "language": "python",
   "name": "python3"
  },
  "language_info": {
   "codemirror_mode": {
    "name": "ipython",
    "version": 3
   },
   "file_extension": ".py",
   "mimetype": "text/x-python",
   "name": "python",
   "nbconvert_exporter": "python",
   "pygments_lexer": "ipython3",
   "version": "3.7.6"
  }
 },
 "nbformat": 4,
 "nbformat_minor": 4
}
